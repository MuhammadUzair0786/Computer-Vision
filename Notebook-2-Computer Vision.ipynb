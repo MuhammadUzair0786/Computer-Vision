{
 "cells": [
  {
   "cell_type": "markdown",
   "id": "1148fe5e",
   "metadata": {},
   "source": [
    "# Computer Vision (2nd Notebook)"
   ]
  },
  {
   "cell_type": "markdown",
   "id": "7f783be0",
   "metadata": {},
   "source": [
    "# 1.Object Tracking and Detection"
   ]
  },
  {
   "cell_type": "code",
   "execution_count": 1,
   "id": "b1cb6a51",
   "metadata": {},
   "outputs": [],
   "source": [
    "import cv2\n",
    "import numpy as np"
   ]
  },
  {
   "cell_type": "code",
   "execution_count": 8,
   "id": "c36bfb1b",
   "metadata": {},
   "outputs": [],
   "source": [
    "cap = cv2.VideoCapture(r'E:\\Computer-Vision\\Images\\Object_Detection_Tracking_Video.mp4')\n",
    "\n",
    "r,frame =cap.read()\n",
    "x,y,w,h = 610, 130, 300, 410\n",
    "track_window = (x,y,w,h)\n",
    "roi = frame[y:y+h, x:x+w]\n",
    "hsv_roi = cv2.cvtColor(roi, cv2.COLOR_BGR2HSV)\n",
    "mask = cv2.inRange(hsv_roi, np.array((0., 60.,32.)), np.array((180.,255.,255.)))\n",
    "roi_hist = cv2.calcHist([hsv_roi],[0],mask,[180],[0,180])\n",
    "cv2.normalize(roi_hist,roi_hist,0,255,cv2.NORM_MINMAX)\n",
    "cv2.imshow('roi',roi)\n",
    "\n",
    "\n",
    "tr =(cv2.TERM_CRITERIA_EPS | cv2.TERM_CRITERIA_COUNT, 10, 1)\n",
    "\n",
    "\n",
    "while cap.isOpened():\n",
    "    r, frame = cap.read()\n",
    "    if r == True:\n",
    "        # Detetct the object\n",
    "        hsv = cv2.cvtColor(frame, cv2.COLOR_BGR2HSV)\n",
    "        d = cv2.calcBackProject([hsv],[0],roi_hist,[0,180],1)\n",
    "        \n",
    "        # Shifting the window\n",
    "        r, track_window = cv2.meanShift(d, track_window, tr)\n",
    "        x,y,w,h = track_window \n",
    "        final_image = cv2.rectangle(frame, (x,y), (x+w, y+h), (0,0,255),4)\n",
    "        final_image =cv2.resize(final_image,(900,500))\n",
    "        \n",
    "        cv2.imshow('Final Image', final_image)\n",
    "        # cv2.imshow('Video Frame', frame)\n",
    "        if cv2.waitKey(1) & 0xFF == ord('q'):\n",
    "            break\n",
    "    else:\n",
    "        break\n",
    "\n",
    "\n",
    "cap.release()\n",
    "cv2.destroyAllWindows()"
   ]
  },
  {
   "cell_type": "code",
   "execution_count": null,
   "id": "56e379d2",
   "metadata": {},
   "outputs": [],
   "source": [
    "# x,y = 862,223\n",
    "# w = 288\n",
    "# h = 447"
   ]
  },
  {
   "cell_type": "markdown",
   "id": "c4de6933",
   "metadata": {},
   "source": []
  },
  {
   "cell_type": "code",
   "execution_count": null,
   "id": "72655c2a",
   "metadata": {},
   "outputs": [],
   "source": []
  },
  {
   "cell_type": "code",
   "execution_count": null,
   "id": "aae6a6be",
   "metadata": {},
   "outputs": [],
   "source": []
  }
 ],
 "metadata": {
  "kernelspec": {
   "display_name": "base",
   "language": "python",
   "name": "python3"
  },
  "language_info": {
   "codemirror_mode": {
    "name": "ipython",
    "version": 3
   },
   "file_extension": ".py",
   "mimetype": "text/x-python",
   "name": "python",
   "nbconvert_exporter": "python",
   "pygments_lexer": "ipython3",
   "version": "3.9.12"
  }
 },
 "nbformat": 4,
 "nbformat_minor": 5
}
