{
 "cells": [
  {
   "cell_type": "markdown",
   "id": "1148fe5e",
   "metadata": {},
   "source": [
    "# Computer Vision (2nd Notebook)"
   ]
  },
  {
   "cell_type": "markdown",
   "id": "7f783be0",
   "metadata": {},
   "source": [
    "# 1.Object Tracking and Detection"
   ]
  },
  {
   "cell_type": "code",
   "execution_count": 2,
   "id": "b1cb6a51",
   "metadata": {},
   "outputs": [],
   "source": [
    "import cv2\n",
    "import numpy as np"
   ]
  },
  {
   "cell_type": "code",
   "execution_count": 50,
   "id": "c36bfb1b",
   "metadata": {},
   "outputs": [],
   "source": [
    "cap = cv2.VideoCapture(r'E:\\Computer-Vision\\Images\\Object_Detection_Tracking_Video.mp4')\n",
    "\n",
    "r,frame =cap.read()\n",
    "x,y,w,h = 610, 130, 300, 410\n",
    "track_window = (x,y,w,h)\n",
    "roi = frame[y:y+h, x:x+w]\n",
    "hsv_roi = cv2.cvtColor(roi, cv2.COLOR_BGR2HSV)\n",
    "mask = cv2.inRange(hsv_roi, np.array((0., 60.,32.)), np.array((180.,255.,255.)))\n",
    "roi_hist = cv2.calcHist([hsv_roi],[0],mask,[180],[0,180])\n",
    "cv2.normalize(roi_hist,roi_hist,0,255,cv2.NORM_MINMAX)\n",
    "cv2.imshow('roi',roi)\n",
    "\n",
    "\n",
    "tr =(cv2.TERM_CRITERIA_EPS | cv2.TERM_CRITERIA_COUNT, 10, 1)\n",
    "\n",
    "\n",
    "while cap.isOpened():\n",
    "    r, frame = cap.read()\n",
    "    if r == True:\n",
    "        # Detetct the object\n",
    "        hsv = cv2.cvtColor(frame, cv2.COLOR_BGR2HSV)\n",
    "        d = cv2.calcBackProject([hsv],[0],roi_hist,[0,180],1)\n",
    "        \n",
    "        # Shifting the window\n",
    "        r, track_window = cv2.meanShift(d, track_window, tr)\n",
    "        x,y,w,h = track_window \n",
    "        final_image = cv2.rectangle(frame, (x,y), (x+w, y+h), (0,0,255),4)\n",
    "        final_image =cv2.resize(final_image,(900,500))\n",
    "        \n",
    "        cv2.imshow('Final Image', final_image)\n",
    "        # cv2.imshow('Video Frame', frame)\n",
    "        if cv2.waitKey(1) & 0xFF == ord('q'):\n",
    "            break\n",
    "    else:\n",
    "        break\n",
    "\n",
    "\n",
    "cap.release()\n",
    "cv2.destroyAllWindows()"
   ]
  },
  {
   "cell_type": "code",
   "execution_count": null,
   "id": "56e379d2",
   "metadata": {},
   "outputs": [],
   "source": [
    "# x,y = 862,223\n",
    "# w = 288\n",
    "# h = 447"
   ]
  },
  {
   "cell_type": "markdown",
   "id": "c4de6933",
   "metadata": {},
   "source": [
    "# 2.Corner Detection Using Detection Method (Harris Corner Detection)"
   ]
  },
  {
   "cell_type": "code",
   "execution_count": 49,
   "id": "72655c2a",
   "metadata": {},
   "outputs": [],
   "source": [
    "img =cv2.imread(r'E:\\Computer-Vision\\Images\\Uzair.jpg')\n",
    "img = cv2.resize(img,(400,400))\n",
    "gr = cv2.cvtColor(img,cv2.COLOR_BGR2GRAY)\n",
    "\n",
    "gr = np.float32(gr)\n",
    "res = cv2.cornerHarris(gr,2,3,0.04)\n",
    "res = cv2.dilate(res,None)\n",
    "img[res>0.01*res.max()] = [0,0,255]\n",
    "\n",
    "\n",
    "\n",
    "cv2.imshow('Image',img)\n",
    "cv2.waitKey(0)\n",
    "cv2.destroyAllWindows()"
   ]
  },
  {
   "cell_type": "markdown",
   "id": "5d526994",
   "metadata": {},
   "source": [
    "# 3.Corner Detection Using Detection Method (Shi-Tomasi Corner Detectio)\n",
    "\n",
    "Shi-Tomasi corner detection is used when we want the system to automatically find the best corner points instead of selecting them manually."
   ]
  },
  {
   "cell_type": "code",
   "execution_count": 51,
   "id": "aae6a6be",
   "metadata": {},
   "outputs": [],
   "source": [
    "\n",
    "img =cv2.imread(r'E:\\Computer-Vision\\Images\\Uzair.jpg')\n",
    "img = cv2.resize(img,(400,400))\n",
    "gr = cv2.cvtColor(img,cv2.COLOR_BGR2GRAY)\n",
    "\n",
    "cr = cv2.goodFeaturesToTrack(gr,30,0.01,20)\n",
    "cr = np.int64(cr)\n",
    "#change in one dimension\n",
    "for i in cr:\n",
    "    x,y = i.ravel()\n",
    "    cv2.circle(img,(x,y),5,(0,0,255),-1)\n",
    "\n",
    "\n",
    "cv2.imshow('Image',img)\n",
    "cv2.waitKey(0)\n",
    "cv2.destroyAllWindows()"
   ]
  },
  {
   "cell_type": "markdown",
   "id": "fc7fe049",
   "metadata": {},
   "source": [
    "# 4. Object Detection Using Haar Cascade (Face Detection)\n",
    "Haar Cascade is used for object detection, such as face detection, by using pre-trained classifiers to identify features in images automatically."
   ]
  },
  {
   "cell_type": "code",
   "execution_count": 52,
   "id": "49d3d950",
   "metadata": {},
   "outputs": [],
   "source": [
    "\n",
    "img =cv2.imread(r'E:\\Computer-Vision\\Images\\Uzair.jpg')\n",
    "img = cv2.resize(img,(400,400))\n",
    "gr = cv2.cvtColor(img,cv2.COLOR_BGR2GRAY)\n",
    "\n",
    "# us location par haarcascade ki all file save hai jis ma different objects k liye pre-trained classifiers hain \n",
    "face_cascade = cv2.CascadeClassifier(r'C:\\Python311\\Lib\\site-packages\\cv2\\data\\haarcascade_frontalface_default.xml')\n",
    "# Adjust parameter\n",
    "faces = face_cascade.detectMultiScale(gr,1.1,4)\n",
    "for (x,y,w,h) in faces:\n",
    "    cv2.rectangle(img,(x,y),(x+w,y+h),(0,0,255),2)\n",
    "\n",
    "\n",
    "cv2.imshow('Image',img)\n",
    "cv2.waitKey(0)\n",
    "cv2.destroyAllWindows()"
   ]
  },
  {
   "cell_type": "markdown",
   "id": "8a498ddd",
   "metadata": {},
   "source": [
    "# 5.Displaying  coordinates and color code of the points clicked on the image "
   ]
  },
  {
   "cell_type": "code",
   "execution_count": 30,
   "id": "b65ee2c7",
   "metadata": {},
   "outputs": [],
   "source": [
    "def click_b(event,x,y,f,p):\n",
    "    if(event == cv2.EVENT_LBUTTONDOWN):\n",
    "        font = cv2.FONT_HERSHEY_SIMPLEX\n",
    "        strXY = str(x)+','+str(y)\n",
    "        cv2.putText(img,strXY,(x,y),font,0.5,(0,0,0),2)\n",
    "        cv2.imshow('Mouse-LEFT-Cordinate & RIGHT-Color',img)\n",
    "        \n",
    "    elif(event == cv2.EVENT_RBUTTONDOWN):\n",
    "        blue = img[y,x,0]\n",
    "        green = img[y,x,1]\n",
    "        red = img[y,x,2]\n",
    "        font = cv2.FONT_HERSHEY_SIMPLEX\n",
    "        strBGR = str(blue)+','+str(green)+','+str(red)\n",
    "        cv2.putText(img,strBGR,(x,y),font,0.5,(0,0,0),2)\n",
    "        cv2.imshow('Mouse-LEFT-Cordinate & RIGHT-Color',img)\n",
    "\n",
    "img =cv2.imread(r'E:\\Computer-Vision\\Images\\Ball Image.png')\n",
    "img = cv2.resize(img,(400,400))\n",
    "cv2.imshow('Mouse-LEFT-Cordinate & RIGHT-Color',img)\n",
    "cv2.setMouseCallback('Mouse-LEFT-Cordinate & RIGHT-Color',click_b)\n",
    "\n",
    "\n",
    "cv2.waitKey(0)\n",
    "cv2.destroyAllWindows()"
   ]
  },
  {
   "cell_type": "markdown",
   "id": "74afa41d",
   "metadata": {},
   "source": [
    "# 6.Play a video in reverse mode"
   ]
  },
  {
   "cell_type": "code",
   "execution_count": 36,
   "id": "6a3a5450",
   "metadata": {},
   "outputs": [],
   "source": [
    "import cv2\n",
    "\n",
    "# Load the video\n",
    "video_path = r'E:\\Computer-Vision\\Images\\Object_Detection_Tracking_Video.mp4'\n",
    "cap = cv2.VideoCapture(video_path)\n",
    "\n",
    "# Get total number of frames\n",
    "total_frames = int(cap.get(cv2.CAP_PROP_FRAME_COUNT))\n",
    "\n",
    "# Loop through the video in reverse\n",
    "for frame_index in range(total_frames - 1, -1, -1):\n",
    "    cap.set(cv2.CAP_PROP_POS_FRAMES, frame_index)  # Set frame position\n",
    "    ret, frame = cap.read()\n",
    "    \n",
    "    if ret:\n",
    "        frame = cv2.resize(frame, (500, 500))\n",
    "        cv2.imshow('Reverse Video', frame)\n",
    "        \n",
    "        # Press 'q' to exit early\n",
    "        if cv2.waitKey(20) & 0xFF == ord('q'):\n",
    "            break\n",
    "    else:\n",
    "        print(f\"Failed to read frame at index {frame_index}\")\n",
    "        break\n",
    "\n",
    "# Clean up\n",
    "cap.release()\n",
    "cv2.destroyAllWindows()\n"
   ]
  },
  {
   "cell_type": "code",
   "execution_count": null,
   "id": "8e7df610",
   "metadata": {},
   "outputs": [],
   "source": []
  }
 ],
 "metadata": {
  "kernelspec": {
   "display_name": "base",
   "language": "python",
   "name": "python3"
  },
  "language_info": {
   "codemirror_mode": {
    "name": "ipython",
    "version": 3
   },
   "file_extension": ".py",
   "mimetype": "text/x-python",
   "name": "python",
   "nbconvert_exporter": "python",
   "pygments_lexer": "ipython3",
   "version": "3.9.12"
  }
 },
 "nbformat": 4,
 "nbformat_minor": 5
}
