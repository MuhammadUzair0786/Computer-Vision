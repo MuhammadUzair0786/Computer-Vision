{
 "cells": [
  {
   "cell_type": "markdown",
   "id": "dc73cfcc",
   "metadata": {},
   "source": [
    "# Computer Vision (3rd Notebook)"
   ]
  },
  {
   "cell_type": "markdown",
   "id": "40dc3296",
   "metadata": {},
   "source": [
    "# 41.Vehicle detection in a Video frame\n"
   ]
  },
  {
   "cell_type": "code",
   "execution_count": 1,
   "id": "b874c6d5",
   "metadata": {},
   "outputs": [],
   "source": [
    "import cv2\n",
    "import numpy as np"
   ]
  },
  {
   "cell_type": "code",
   "execution_count": 42,
   "id": "a7e640d9",
   "metadata": {},
   "outputs": [],
   "source": [
    "import cv2\n",
    "\n",
    "# Load video\n",
    "cap = cv2.VideoCapture(r'E:\\Computer-Vision\\Images\\Vehical_Run.mp4')\n",
    "\n",
    "# Load the car classifier once\n",
    "car_cascade = cv2.CascadeClassifier(r'E:\\Computer-Vision\\haarcascade_vehicle.xml')\n",
    "\n",
    "while True:\n",
    "    ret, frame = cap.read()\n",
    "    \n",
    "    if ret:\n",
    "        # Convert frame to grayscale\n",
    "        frame = cv2.resize(frame, (700,500))\n",
    "        gray = cv2.cvtColor(frame, cv2.COLOR_BGR2GRAY)\n",
    "        \n",
    "        # Detect cars\n",
    "        cars = car_cascade.detectMultiScale(gray, scaleFactor=1.1, minNeighbors=3)\n",
    "        \n",
    "        # Draw rectangles around detected cars\n",
    "        for (x, y, w, h) in cars:\n",
    "            cv2.rectangle(frame, (x, y), (x + w, y + h), (0, 0, 255), 1)\n",
    "        \n",
    "        # Display the frame\n",
    "        cv2.imshow('Video Frame', frame)\n",
    "        \n",
    "        # Break the loop if 'q' is pressed\n",
    "        if cv2.waitKey(20) & 0xFF == ord('q'):\n",
    "            break\n",
    "    else:\n",
    "        break\n",
    "\n",
    "# Release resources\n",
    "cap.release()\n",
    "cv2.destroyAllWindows()\n"
   ]
  },
  {
   "cell_type": "markdown",
   "id": "1b59cf0b",
   "metadata": {},
   "source": [
    "# 42. Smile and Eye detection"
   ]
  },
  {
   "cell_type": "code",
   "execution_count": 20,
   "id": "3b2e86c5",
   "metadata": {},
   "outputs": [],
   "source": [
    "image =cv2.imread(r'E:\\Computer-Vision\\Images\\Uzair.jpg')\n",
    "image =cv2.resize(image,(500,500))\n",
    "\n",
    "\n",
    "gry =cv2.cvtColor(image,cv2.COLOR_BGR2GRAY)\n",
    "sm =cv2.CascadeClassifier(r'E:\\Computer-Vision\\haarcascade_smile.xml')\n",
    "fc =cv2.CascadeClassifier(r'E:\\Computer-Vision\\haarcascade_frontalface_default.xml')\n",
    "\n",
    "f = fc.detectMultiScale(gry,1.3,3)\n",
    "\n",
    "for x,y,w,h in f:\n",
    "    roi_gry =gry[y:y+h,x:x+w]\n",
    "    roi_img =image[y:y+h,x:x+w]\n",
    "    \n",
    "    s =sm.detectMultiScale(roi_img,1.5,5)\n",
    "    \n",
    "    for xs,ys,ws,hs in s:\n",
    "        cv2.rectangle(roi_img,(xs,ys),(xs+ws,ys+hs),(0,0,255),2)\n",
    "        \n",
    "\n",
    "cv2.imshow('My Image',image)\n",
    "cv2.waitKey(0)\n",
    "cv2.destroyAllWindows()"
   ]
  },
  {
   "cell_type": "markdown",
   "id": "fd479218",
   "metadata": {},
   "source": [
    "# 43.Pedestrian detection from a streaming video"
   ]
  },
  {
   "cell_type": "code",
   "execution_count": 13,
   "id": "650cf110",
   "metadata": {},
   "outputs": [],
   "source": [
    "import cv2\n",
    "\n",
    "# Load video\n",
    "cap = cv2.VideoCapture(r'E:\\Computer-Vision\\Images\\Person_detection_video.mp4')\n",
    "\n",
    "# Load Haar cascade once\n",
    "hm = cv2.CascadeClassifier(r'E:\\Computer-Vision\\haarcascade_fullbody.xml')\n",
    "\n",
    "# Check if cascade loaded\n",
    "if hm.empty():\n",
    "    print(\"Error loading Haar cascade\")\n",
    "    exit()\n",
    "\n",
    "while True:\n",
    "    r, frame = cap.read()\n",
    "    \n",
    "    if not r:\n",
    "        break  # End of video\n",
    "\n",
    "    # Resize frame\n",
    "    frame = cv2.resize(frame, (700, 500))\n",
    "\n",
    "    # Convert to grayscale\n",
    "    gray = cv2.cvtColor(frame, cv2.COLOR_BGR2GRAY)\n",
    "\n",
    "    # Detect people\n",
    "    bodies = hm.detectMultiScale(gray, 1.1, 5)\n",
    "\n",
    "    # Draw rectangles and label each detected person\n",
    "    for x, y, w, h in bodies:\n",
    "        cv2.rectangle(frame, (x, y), (x + w, y + h), (0, 0, 255), 2)\n",
    "        cv2.putText(frame, 'Person', (x, y - 10), cv2.FONT_HERSHEY_SIMPLEX,\n",
    "                    0.3, (255, 0, 0), 1, cv2.LINE_AA)\n",
    "\n",
    "    # show total number of people detected\n",
    "    cv2.putText(frame, f'Total Persons: {len(bodies)}', (10, 30), cv2.FONT_HERSHEY_SIMPLEX,\n",
    "                0.8, (0, 0, 255), 2, cv2.LINE_AA)\n",
    "\n",
    "    # Show frame\n",
    "    cv2.imshow('Person Detection', frame)\n",
    "\n",
    "    # Break on 'q' key\n",
    "    if cv2.waitKey(25) & 0xFF == ord('q'):\n",
    "        break\n",
    "\n",
    "# Release resources\n",
    "cap.release()\n",
    "cv2.destroyAllWindows()\n"
   ]
  },
  {
   "cell_type": "markdown",
   "id": "b89dcb7b",
   "metadata": {},
   "source": [
    "# 44.MediaPipe (Face Detection)\n",
    "MediaPipe is a cross-platform, open-source framework by Google for building real-time perception pipelines. It’s widely used in computer vision tasks like:\n",
    "\n",
    "Face detection | Face Mesh | Iris | Hands Gesture recognition| Pose | Holistic full Body | Hair Segmentation | Object Detection | KNIFT written data | Box Tracking | Instant Motion Tracking "
   ]
  },
  {
   "cell_type": "code",
   "execution_count": 2,
   "id": "44297204",
   "metadata": {},
   "outputs": [
    {
     "name": "stdout",
     "output_type": "stream",
     "text": [
      "Requirement already satisfied: mediapipe in c:\\python311\\lib\\site-packages (0.10.21)\n",
      "Requirement already satisfied: absl-py in c:\\python311\\lib\\site-packages (from mediapipe) (1.4.0)\n",
      "Requirement already satisfied: attrs>=19.1.0 in c:\\python311\\lib\\site-packages (from mediapipe) (25.3.0)\n",
      "Requirement already satisfied: flatbuffers>=2.0 in c:\\python311\\lib\\site-packages (from mediapipe) (25.2.10)\n",
      "Requirement already satisfied: jax in c:\\python311\\lib\\site-packages (from mediapipe) (0.4.5)\n",
      "Requirement already satisfied: jaxlib in c:\\python311\\lib\\site-packages (from mediapipe) (0.7.1)\n",
      "Requirement already satisfied: matplotlib in c:\\users\\muhammad uzair\\appdata\\roaming\\python\\python311\\site-packages (from mediapipe) (3.8.4)\n",
      "Requirement already satisfied: numpy<2 in c:\\python311\\lib\\site-packages (from mediapipe) (1.26.4)\n",
      "Requirement already satisfied: opencv-contrib-python in c:\\python311\\lib\\site-packages (from mediapipe) (4.11.0.86)\n",
      "Requirement already satisfied: protobuf<5,>=4.25.3 in c:\\python311\\lib\\site-packages (from mediapipe) (4.25.8)\n",
      "Requirement already satisfied: sounddevice>=0.4.4 in c:\\python311\\lib\\site-packages (from mediapipe) (0.5.2)\n",
      "Requirement already satisfied: sentencepiece in c:\\python311\\lib\\site-packages (from mediapipe) (0.2.1)\n",
      "Requirement already satisfied: CFFI>=1.0 in c:\\python311\\lib\\site-packages (from sounddevice>=0.4.4->mediapipe) (1.17.1)\n",
      "Requirement already satisfied: pycparser in c:\\python311\\lib\\site-packages (from CFFI>=1.0->sounddevice>=0.4.4->mediapipe) (2.22)\n",
      "Requirement already satisfied: opt_einsum in c:\\python311\\lib\\site-packages (from jax->mediapipe) (3.3.0)\n",
      "Requirement already satisfied: scipy>=1.5 in c:\\python311\\lib\\site-packages (from jax->mediapipe) (1.16.1)\n",
      "Requirement already satisfied: ml_dtypes>=0.5.0 in c:\\python311\\lib\\site-packages (from jaxlib->mediapipe) (0.5.3)\n",
      "Requirement already satisfied: contourpy>=1.0.1 in c:\\python311\\lib\\site-packages (from matplotlib->mediapipe) (1.3.3)\n",
      "Requirement already satisfied: cycler>=0.10 in c:\\python311\\lib\\site-packages (from matplotlib->mediapipe) (0.12.1)\n",
      "Requirement already satisfied: fonttools>=4.22.0 in c:\\python311\\lib\\site-packages (from matplotlib->mediapipe) (4.59.0)\n",
      "Requirement already satisfied: kiwisolver>=1.3.1 in c:\\python311\\lib\\site-packages (from matplotlib->mediapipe) (1.4.8)\n",
      "Requirement already satisfied: packaging>=20.0 in c:\\python311\\lib\\site-packages (from matplotlib->mediapipe) (23.0)\n",
      "Requirement already satisfied: pillow>=8 in c:\\users\\muhammad uzair\\appdata\\roaming\\python\\python311\\site-packages (from matplotlib->mediapipe) (10.3.0)\n",
      "Requirement already satisfied: pyparsing>=2.3.1 in c:\\python311\\lib\\site-packages (from matplotlib->mediapipe) (3.2.3)\n",
      "Requirement already satisfied: python-dateutil>=2.7 in c:\\python311\\lib\\site-packages (from matplotlib->mediapipe) (2.8.2)\n",
      "Requirement already satisfied: six>=1.5 in c:\\python311\\lib\\site-packages (from python-dateutil>=2.7->matplotlib->mediapipe) (1.16.0)\n"
     ]
    },
    {
     "name": "stderr",
     "output_type": "stream",
     "text": [
      "WARNING: Ignoring invalid distribution ~ip (C:\\Python311\\Lib\\site-packages)\n",
      "WARNING: Ignoring invalid distribution ~ip (C:\\Python311\\Lib\\site-packages)\n",
      "WARNING: Ignoring invalid distribution ~ip (C:\\Python311\\Lib\\site-packages)\n"
     ]
    }
   ],
   "source": [
    "!pip install mediapipe"
   ]
  },
  {
   "cell_type": "code",
   "execution_count": 3,
   "id": "7efe490c",
   "metadata": {},
   "outputs": [
    {
     "ename": "ModuleNotFoundError",
     "evalue": "No module named 'mediapipe'",
     "output_type": "error",
     "traceback": [
      "\u001b[1;31m---------------------------------------------------------------------------\u001b[0m",
      "\u001b[1;31mModuleNotFoundError\u001b[0m                       Traceback (most recent call last)",
      "Input \u001b[1;32mIn [3]\u001b[0m, in \u001b[0;36m<cell line: 1>\u001b[1;34m()\u001b[0m\n\u001b[1;32m----> 1\u001b[0m \u001b[38;5;28;01mimport\u001b[39;00m\u001b[38;5;250m \u001b[39m\u001b[38;5;21;01mmediapipe\u001b[39;00m\u001b[38;5;250m \u001b[39m\u001b[38;5;28;01mas\u001b[39;00m\u001b[38;5;250m \u001b[39m\u001b[38;5;21;01mmp\u001b[39;00m\n",
      "\u001b[1;31mModuleNotFoundError\u001b[0m: No module named 'mediapipe'"
     ]
    }
   ],
   "source": [
    "import mediapipe as mp"
   ]
  },
  {
   "cell_type": "code",
   "execution_count": null,
   "id": "1305cb91",
   "metadata": {},
   "outputs": [],
   "source": []
  }
 ],
 "metadata": {
  "kernelspec": {
   "display_name": "Python 3 (ipykernel)",
   "language": "python",
   "name": "python3"
  },
  "language_info": {
   "codemirror_mode": {
    "name": "ipython",
    "version": 3
   },
   "file_extension": ".py",
   "mimetype": "text/x-python",
   "name": "python",
   "nbconvert_exporter": "python",
   "pygments_lexer": "ipython3",
   "version": "3.9.12"
  }
 },
 "nbformat": 4,
 "nbformat_minor": 5
}
