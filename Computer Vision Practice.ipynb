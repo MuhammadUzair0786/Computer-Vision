{
 "cells": [
  {
   "cell_type": "markdown",
   "id": "ce24195f",
   "metadata": {},
   "source": [
    "# 1. Read and Show Image"
   ]
  },
  {
   "cell_type": "code",
   "execution_count": 1,
   "id": "df0764eb",
   "metadata": {},
   "outputs": [],
   "source": [
    "import cv2\n",
    "import numpy as np"
   ]
  },
  {
   "cell_type": "markdown",
   "id": "a58db207",
   "metadata": {},
   "source": [
    "## Image Read and Show"
   ]
  },
  {
   "cell_type": "code",
   "execution_count": 4,
   "id": "dbb891ab",
   "metadata": {},
   "outputs": [],
   "source": [
    "img =cv2.imread(r'E:\\Computer-Vision\\Images\\boat.jpg') # read image\n",
    "cv2.imshow('Boat Image',img) # show image\n",
    "cv2.waitKey(10000)  # image frame wait time-ms and 0 pass keyboard any key press\n",
    "# cv2.destroyAllWindows()  # all window close\n",
    "cv2.destroyWindow('Boat Image')  # only one window close give particular window name\n"
   ]
  },
  {
   "cell_type": "markdown",
   "id": "39f39b2a",
   "metadata": {},
   "source": [
    "## Image Multiple Window Open"
   ]
  },
  {
   "cell_type": "code",
   "execution_count": 5,
   "id": "626f8906",
   "metadata": {},
   "outputs": [],
   "source": [
    "img =cv2.imread(r'E:\\Computer-Vision\\Images\\boat.jpg') # read image\n",
    "cv2.imshow('Boat Image',img) # show image\n",
    "cv2.imshow('Boat Image',img) # show image\n",
    "cv2.waitKey(0)  # image frame wait time-ms and 0 pass keyboard any key press\n",
    "cv2.destroyAllWindows()  # all window close\n",
    "# cv2.destroyWindow()  # only one window close"
   ]
  },
  {
   "cell_type": "markdown",
   "id": "2d0babac",
   "metadata": {},
   "source": [
    "## Resize Image"
   ]
  },
  {
   "cell_type": "code",
   "execution_count": 6,
   "id": "ab21936e",
   "metadata": {},
   "outputs": [],
   "source": [
    "img =cv2.imread(r'E:\\Computer-Vision\\Images\\cat.jpg') # read image\n",
    "\n",
    "#Resize image width ,height\n",
    "img =cv2.resize(img,(500,500))\n",
    "\n",
    "cv2.imshow('Cat Image',img) # show image\n",
    "cv2.waitKey(0)  # image frame wait time-ms and 0 pass keyboard any key press\n",
    "# cv2.destroyAllWindows()  # all window close\n",
    "cv2.destroyWindow('Cat Image')  # only one window close give particular window name\n"
   ]
  },
  {
   "cell_type": "code",
   "execution_count": 9,
   "id": "df93e81d",
   "metadata": {},
   "outputs": [
    {
     "data": {
      "text/plain": [
       "array([[1, 2, 3, 1, 2, 3],\n",
       "       [1, 2, 3, 1, 2, 3]])"
      ]
     },
     "execution_count": 9,
     "metadata": {},
     "output_type": "execute_result"
    }
   ],
   "source": [
    "import numpy as np\n",
    "v =np.array([[1,2,3,1,2,3],[1,2,3,1,2,3]])\n",
    "v"
   ]
  },
  {
   "cell_type": "code",
   "execution_count": 10,
   "id": "73128922",
   "metadata": {},
   "outputs": [
    {
     "name": "stdout",
     "output_type": "stream",
     "text": [
      "[[[  5  22  35]\n",
      "  [  7  24  37]\n",
      "  [ 10  27  40]\n",
      "  ...\n",
      "  [184 181 166]\n",
      "  [184 181 166]\n",
      "  [184 181 166]]\n",
      "\n",
      " [[  8  25  38]\n",
      "  [  9  26  39]\n",
      "  [  9  28  41]\n",
      "  ...\n",
      "  [184 181 166]\n",
      "  [184 181 166]\n",
      "  [184 181 166]]\n",
      "\n",
      " [[ 13  30  43]\n",
      "  [ 12  31  44]\n",
      "  [ 12  31  46]\n",
      "  ...\n",
      "  [184 181 166]\n",
      "  [184 181 166]\n",
      "  [184 181 166]]\n",
      "\n",
      " ...\n",
      "\n",
      " [[  9  14  17]\n",
      "  [  4   9  12]\n",
      "  [  9  14  17]\n",
      "  ...\n",
      "  [156 158 158]\n",
      "  [156 158 158]\n",
      "  [156 158 158]]\n",
      "\n",
      " [[ 22  27  30]\n",
      "  [  5  10  13]\n",
      "  [  9  14  17]\n",
      "  ...\n",
      "  [156 158 158]\n",
      "  [156 158 158]\n",
      "  [156 158 158]]\n",
      "\n",
      " [[ 40  45  48]\n",
      "  [ 10  15  18]\n",
      "  [ 10  15  18]\n",
      "  ...\n",
      "  [156 158 158]\n",
      "  [156 158 158]\n",
      "  [156 158 158]]]\n"
     ]
    }
   ],
   "source": [
    "img =cv2.imread(r'E:\\Computer-Vision\\Images\\cat.jpg') # read image\n",
    "print(img) #RGB"
   ]
  },
  {
   "cell_type": "markdown",
   "id": "0d883929",
   "metadata": {},
   "source": [
    "# 2. Show Multiple Image and Slide Show\n",
    "### Horizontal and Vertical"
   ]
  },
  {
   "cell_type": "code",
   "execution_count": 11,
   "id": "0d784790",
   "metadata": {},
   "outputs": [],
   "source": [
    "img =cv2.imread(r'E:\\Computer-Vision\\Images\\lion.jpg')\n",
    "\n",
    "#Resize image width ,height\n",
    "img =cv2.resize(img,(200,200))\n",
    "\n",
    "#Show horizontal multiple image in one frame\n",
    "h =np.hstack((img,img))\n",
    "\n",
    "#Show vertical multiple image in one frame\n",
    "v =np.vstack((h,h))\n",
    "\n",
    "cv2.imshow('Lion Image',v)\n",
    "cv2.waitKey(0)\n",
    "cv2.destroyAllWindows()"
   ]
  },
  {
   "cell_type": "markdown",
   "id": "ca8a57d3",
   "metadata": {},
   "source": [
    "## Slide Image Show"
   ]
  },
  {
   "cell_type": "code",
   "execution_count": 13,
   "id": "104825c4",
   "metadata": {},
   "outputs": [
    {
     "data": {
      "text/plain": [
       "['boat.jpg',\n",
       " 'cat.jpg',\n",
       " 'chair.jpg',\n",
       " 'clock.jpg',\n",
       " 'dog.jpg',\n",
       " 'elephant.jpg',\n",
       " 'fan.jpg',\n",
       " 'Honda Civic.jpg',\n",
       " 'laptop.jpg',\n",
       " 'lion.jpg']"
      ]
     },
     "execution_count": 13,
     "metadata": {},
     "output_type": "execute_result"
    }
   ],
   "source": [
    "import os\n",
    "# show all images with help of os\n",
    "list_name =os.listdir(r'E:\\Computer-Vision\\Images')\n",
    "list_name"
   ]
  },
  {
   "cell_type": "code",
   "execution_count": 15,
   "id": "c9901d10",
   "metadata": {},
   "outputs": [],
   "source": [
    "for name in list_name:\n",
    "    path ='E:\\\\Computer-Vision\\\\Images'\n",
    "    img_name = path + '\\\\' + name \n",
    "    img = cv2.imread(img_name)\n",
    "    img =cv2.resize(img,(200,200))\n",
    "    cv2.imshow('Different Images',img)\n",
    "    cv2.waitKey(1000)\n",
    "cv2.destroyAllWindows()\n",
    "    "
   ]
  },
  {
   "cell_type": "markdown",
   "id": "13a87f80",
   "metadata": {},
   "source": [
    "# 3. Image imread Function (RGB,grayscale)"
   ]
  },
  {
   "cell_type": "code",
   "execution_count": 2,
   "id": "741ea1f8",
   "metadata": {},
   "outputs": [],
   "source": [
    "# 1 is used for RGB color image flag is 1\n",
    "import cv2\n",
    "img = cv2.imread(r'E:\\Computer-Vision\\Images\\clock.jpg', 1)\n",
    "img = cv2.resize(img,(200,200))\n",
    "cv2.imshow(\"RGB Image flag = 1\",img)\n",
    "cv2.waitKey(0)\n",
    "cv2.destroyAllWindows()"
   ]
  },
  {
   "cell_type": "code",
   "execution_count": 3,
   "id": "639477ec",
   "metadata": {},
   "outputs": [],
   "source": [
    "# 0 is used for grayscale image flag is 0\n",
    "import cv2\n",
    "img = cv2.imread(r'E:\\Computer-Vision\\Images\\clock.jpg', 0)\n",
    "img = cv2.resize(img,(200,200))\n",
    "cv2.imshow(\"Grayscale Image flag = 0\",img)\n",
    "cv2.waitKey(0)\n",
    "cv2.destroyAllWindows()"
   ]
  },
  {
   "cell_type": "markdown",
   "id": "5fae2344",
   "metadata": {},
   "source": [
    "# 4. Text Over a Image"
   ]
  },
  {
   "cell_type": "code",
   "execution_count": 1,
   "id": "50d0019b",
   "metadata": {},
   "outputs": [],
   "source": [
    "import cv2\n"
   ]
  },
  {
   "cell_type": "code",
   "execution_count": 71,
   "id": "1e7c383a",
   "metadata": {},
   "outputs": [],
   "source": [
    "img_get =cv2.imread(r'E:\\Computer-Vision\\Images\\clock.jpg', -1)  # -1 is used for unchanged image\n",
    "img_get =cv2.resize(img_get,(500,600))\n",
    "\n",
    "# Draw text on image parameters\n",
    "img =img_get\n",
    "text ='Clock Image' # text to be added\n",
    "org = (150, 50)  # position of text\n",
    "fontFace = cv2.FONT_HERSHEY_DUPLEX # font type\n",
    "fontscale = 1 # font scale\n",
    "color = (0, 255, 0)  # BGR color format\n",
    "thickness = 2  # thickness of text\n",
    "lineType =cv2.LINE_8 # line type\n",
    "bottomLeftOrigin = False  # text origin\n",
    "\n",
    "\n",
    "\n",
    "txt =cv2.putText(img, text, org, fontFace, fontscale, color, thickness, lineType, bottomLeftOrigin)\n",
    "\n",
    "cv2.imshow('Clock Image',img_get) \n",
    "cv2.waitKey(0)\n",
    "cv2.destroyAllWindows()\n"
   ]
  },
  {
   "cell_type": "markdown",
   "id": "173439ab",
   "metadata": {},
   "source": [
    "# 5. Draw Line and Rectangle on Image "
   ]
  },
  {
   "cell_type": "code",
   "execution_count": 61,
   "id": "cfd2d99f",
   "metadata": {},
   "outputs": [],
   "source": [
    "img_get =cv2.imread(r'E:\\Computer-Vision\\Images\\lion.jpg', -1)  # -1 is used for unchanged image\n",
    "img_get =cv2.resize(img_get,(400,400))\n",
    "\n",
    "# Draw line on image change parameters\n",
    "img =cv2.line(img_get, pt1=(200, 100),pt2= (300 , 100), color =(255, 0, 0), thickness=4,lineType =4)  # line start point, end point, color, thickness\n",
    "\n",
    "cv2.imshow('Lion Image',img) \n",
    "cv2.waitKey(0)\n",
    "cv2.destroyAllWindows()\n"
   ]
  },
  {
   "cell_type": "code",
   "execution_count": null,
   "id": "477e4f50",
   "metadata": {},
   "outputs": [],
   "source": [
    "img_get =cv2.imread(r'E:\\Computer-Vision\\Images\\lion.jpg', -1)  # -1 is used for unchanged image\n",
    "img_get =cv2.resize(img_get,(400,400))\n",
    "\n",
    "# Draw text on image parameters\n",
    "img =img_get\n",
    "text ='lion' # text to be added\n",
    "org = (170, 25)  # position of text\n",
    "fontFace = 2 # font type\n",
    "fontscale = 1 # font scale\n",
    "color = (0, 0, 255)  # BGR color format\n",
    "thickness = 2  # thickness of text\n",
    "lineType = 16 # line type\n",
    "bottomLeftOrigin = False  # text origin\n",
    "\n",
    "txt =cv2.putText(img, text, org, fontFace, fontscale, color, thickness, lineType, bottomLeftOrigin)\n",
    "\n",
    " \n",
    "# Draw Rectangle on image change parameters\n",
    "img =cv2.rectangle(img_get, pt1=(170, 30),pt2= (320 , 300), color =(0, 255, 0), thickness=2,lineType =16)  # line start point, end point, color, thickness\n",
    "\n",
    "cv2.imshow('Lion Image',img) \n",
    "cv2.waitKey(0)\n",
    "cv2.destroyAllWindows()"
   ]
  },
  {
   "cell_type": "markdown",
   "id": "22f87a57",
   "metadata": {},
   "source": [
    "# 6. Draw Circle and Elllipse On Image"
   ]
  },
  {
   "cell_type": "code",
   "execution_count": 122,
   "id": "5c8e1249",
   "metadata": {},
   "outputs": [],
   "source": [
    "img_get =cv2.imread(r'E:\\Computer-Vision\\Images\\dog.jpg', -1)  # -1 is used for unchanged image\n",
    "img_get =cv2.resize(img_get,(400,400))\n",
    "\n",
    "# Draw circle on image change parameters if thickness =-1 then circle is filled\n",
    "img =cv2.circle(img =img_get, center=(300, 100), radius=65, color=(0, 0, 255), thickness=2, lineType=16)  # center point, radius, color, thickness\n",
    "\n",
    "\n",
    "\n",
    "cv2.imshow('Dog Image',img_get) \n",
    "cv2.waitKey(0)\n",
    "cv2.destroyAllWindows()\n"
   ]
  },
  {
   "cell_type": "code",
   "execution_count": 159,
   "id": "efef136c",
   "metadata": {},
   "outputs": [],
   "source": [
    "img_get =cv2.imread(r'E:\\Computer-Vision\\Images\\dog.jpg', -1)  # -1 is used for unchanged image\n",
    "img_get =cv2.resize(img_get,(400,400))\n",
    "\n",
    "\n",
    "# write text on image\n",
    "txt_img =cv2.putText(img_get, 'Dog', (250, 50), cv2.FONT_HERSHEY_SIMPLEX, 1, (255, 0, 0), 2, cv2.LINE_AA)\n",
    "\n",
    "\n",
    "\n",
    "# Draw Ellipsis on image change parameters if thickness =-1 then circle is filled\n",
    "img =cv2.ellipse(img =img_get, center=(305, 115), axes =(35,60), \n",
    "                 angle =10, startAngle =0, endAngle =360,\n",
    "                 color=(0, 0, 255), thickness=2,\n",
    "                 lineType=16)  # center point , color, thickness\n",
    "\n",
    "\n",
    "cv2.imshow('Dog Image',img_get) \n",
    "cv2.waitKey(0)\n",
    "cv2.destroyAllWindows()"
   ]
  },
  {
   "cell_type": "markdown",
   "id": "cb519d57",
   "metadata": {},
   "source": [
    "# 7. Arithmetic Operation on Image using Opencv"
   ]
  },
  {
   "cell_type": "code",
   "execution_count": 173,
   "id": "8b8ea2ec",
   "metadata": {},
   "outputs": [],
   "source": [
    "img1 =cv2.imread(r'E:\\Computer-Vision\\Images\\lion.jpg', -1)  # -1 is used for unchanged image\n",
    "img2 =cv2.imread(r'E:\\Computer-Vision\\Images\\cat.jpg', -1)  # -1 is used for unchanged image\n",
    "\n",
    "img1 =cv2.resize(img1,(400,400))\n",
    "img2 =cv2.resize(img2,(400,400))\n",
    "\n",
    "# AddWeighted two images \n",
    "img_add = cv2.addWeighted(img1,1, img2, 0.5,1)  # add two images change parameters\n",
    "cv2.imshow('lion and Cat Image Add',img_add)\n",
    "cv2.waitKey(0)\n",
    "cv2.destroyAllWindows()"
   ]
  },
  {
   "cell_type": "code",
   "execution_count": 172,
   "id": "36eda822",
   "metadata": {},
   "outputs": [],
   "source": [
    "img1 =cv2.imread(r'E:\\Computer-Vision\\Images\\lion.jpg', -1)  # -1 is used for unchanged image\n",
    "img2 =cv2.imread(r'E:\\Computer-Vision\\Images\\cat.jpg', -1)  # -1 is used for unchanged image\n",
    "\n",
    "img1 =cv2.resize(img1,(400,400))\n",
    "img2 =cv2.resize(img2,(400,400))\n",
    "\n",
    "# AddWeighted two images \n",
    "img_add = cv2.subtract(img1, img2)  # subtract two images\n",
    "cv2.imshow('lion and Cat Image Add',img_add)\n",
    "cv2.waitKey(0)\n",
    "cv2.destroyAllWindows()"
   ]
  },
  {
   "cell_type": "markdown",
   "id": "5276b658",
   "metadata": {},
   "source": [
    "# 8. Edge Detection using OpenCV(Canny)"
   ]
  },
  {
   "cell_type": "code",
   "execution_count": 180,
   "id": "a2b5d615",
   "metadata": {},
   "outputs": [
    {
     "name": "stdout",
     "output_type": "stream",
     "text": [
      "(300, 300, 3)\n",
      "(300, 300)\n"
     ]
    }
   ],
   "source": [
    "img =cv2.imread(r'E:\\Computer-Vision\\Images\\Uzair.jpg', -1)  # -1 is used for unchanged image\n",
    "img =cv2.resize(img,(300,300))\n",
    "print(img.shape)  # shape of image\n",
    "\n",
    "new_img =cv2.Canny(img,100,200,apertureSize =5,L2gradient=True)  # Edge detection using Canny method change threshold values for clear edges\n",
    "print(new_img.shape)  # shape of new image after edge detection\n",
    "\n",
    "cv2.imshow('Orginal Image',img)\n",
    "cv2.imshow('Edge Detection Image',new_img)\n",
    "\n",
    "cv2.waitKey(0)\n",
    "cv2.destroyAllWindows()"
   ]
  },
  {
   "cell_type": "markdown",
   "id": "e332f900",
   "metadata": {},
   "source": [
    "# 9.Image Scaling, Rotating using OpenCV  "
   ]
  },
  {
   "cell_type": "code",
   "execution_count": 15,
   "id": "f62b429f",
   "metadata": {},
   "outputs": [],
   "source": [
    "org_img =cv2.imread(r'E:\\Computer-Vision\\Images\\Person.jpg', -1)  # -1 is used for unchanged image\n",
    "res_img =cv2.resize(img,(300,400))\n",
    "\n",
    "cv2.imshow('Orginal Image',org_img)\n",
    "cv2.imshow('Scaling Image',res_img)\n",
    "\n",
    "cv2.waitKey(0)\n",
    "cv2.destroyAllWindows()"
   ]
  },
  {
   "cell_type": "code",
   "execution_count": null,
   "id": "960f165e",
   "metadata": {},
   "outputs": [],
   "source": [
    "org_img =cv2.imread(r'E:\\Computer-Vision\\Images\\Person.jpg', -1)  # -1 is used for unchanged image\n",
    "res_img =cv2.resize(img,(300,400))\n",
    "org_img = cv2.resize(org_img, (300, 400))  # Resize original image to match resized image dimensions\n",
    "\n",
    "# Rotate the resized image by 45 degrees\n",
    "w,h =res_img.shape[0],res_img.shape[1]  # Get width and height of resized image\n",
    "m = cv2.getRotationMatrix2D(center=(w/2,h/2), angle=45,scale =1)  # Get rotation matrix for image rotation\n",
    "new_img = cv2.warpAffine(res_img, m, (h, w))  # Apply rotation to the resized image\n",
    "\n",
    "# Stack original and rotated images horizontally\n",
    "h =np.hstack((org_img,new_img))  \n",
    "cv2.imshow('Orginal Image and Rotate Image',h)\n",
    "\n",
    "cv2.waitKey(0)\n",
    "cv2.destroyAllWindows()"
   ]
  },
  {
   "cell_type": "markdown",
   "id": "f1f7f8c0",
   "metadata": {},
   "source": [
    "# 10. Image bluring using OpenCV"
   ]
  },
  {
   "cell_type": "code",
   "execution_count": null,
   "id": "3ca7907e",
   "metadata": {},
   "outputs": [],
   "source": [
    "org_img =cv2.imread(r'E:\\Computer-Vision\\Images\\Person.jpg', -1)  # -1 is used for unchanged image\n",
    "res_img =cv2.resize(img,(300,400))\n",
    "org_img = cv2.resize(org_img, (300, 400))  # Resize original image to match resized image dimensions\n",
    "\n",
    "# Blurring the resized image using GaussianBlur\n",
    "# Three Type of blurring methods (Gaussian, Median, Bilateral)\n",
    "\n",
    "blurred_img = cv2.GaussianBlur(res_img, (15, 15), 0)  # Apply Gaussian blur with a kernel size of 15x15\n",
    "# m_blurred_img = cv2.medianBlur(blurred_img, 15)  # Apply median blur with a kernel size of 15\n",
    "# b_blurred_img =cv2.bilateralFilter(blurred_img, d=15, sigmaColor=75, sigmaSpace=75)  # Apply bilateral filter with specified parameters\n",
    "\n",
    "\n",
    "# Stack original and rotated images horizontally\n",
    "g =np.hstack((org_img,blurred_img))  \n",
    "cv2.imshow('Orginal Image and Rotate Image',g)\n",
    "\n",
    "cv2.waitKey(0)\n",
    "cv2.destroyAllWindows()"
   ]
  },
  {
   "cell_type": "markdown",
   "id": "8e6b9fcb",
   "metadata": {},
   "source": [
    "# 11.imwrite method using OpenCV"
   ]
  },
  {
   "cell_type": "code",
   "execution_count": null,
   "id": "8db1be3e",
   "metadata": {},
   "outputs": [],
   "source": [
    "org_img =cv2.imread(r'E:\\Computer-Vision\\Images\\Person.jpg', -1)  # -1 is used for unchanged image\n",
    "res_img =cv2.resize(org_img,(300,400))\n",
    "\n",
    "\n",
    "h =np.hstack((res_img,res_img)) \n",
    "v =np.vstack((h,h))  \n",
    "\n",
    " # imwrite function Save the image to a file\n",
    "imwrite_img =cv2.imwrite('imwrite image.jpg', v) \n",
    "\n",
    "cv2.imshow('ImWrite Funtion',v)\n",
    "cv2.waitKey(0)\n",
    "cv2.destroyAllWindows()"
   ]
  },
  {
   "cell_type": "markdown",
   "id": "92453bc2",
   "metadata": {},
   "source": [
    "# 12.MakeBorder using OpenCV"
   ]
  },
  {
   "cell_type": "code",
   "execution_count": null,
   "id": "b1c7e0ab",
   "metadata": {},
   "outputs": [],
   "source": [
    "img =cv2.imread(r'E:\\Computer-Vision\\Images\\Person.jpg', -1)  # -1 is used for unchanged image\n",
    "img =cv2.resize(org_img,(300,400))\n",
    "\n",
    "# Draw Border side of Images\n",
    "border_img =cv2.copyMakeBorder(img,20,20,20,20, borderType=cv2.BORDER_CONSTANT, value=2)\n",
    "\n",
    "\n",
    "cv2.imshow('Border Funtion',border_img)\n",
    "cv2.waitKey(0)\n",
    "cv2.destroyAllWindows()"
   ]
  },
  {
   "cell_type": "code",
   "execution_count": null,
   "id": "0504902b",
   "metadata": {},
   "outputs": [],
   "source": []
  },
  {
   "cell_type": "code",
   "execution_count": null,
   "id": "99d2934c",
   "metadata": {},
   "outputs": [],
   "source": []
  }
 ],
 "metadata": {
  "kernelspec": {
   "display_name": "base",
   "language": "python",
   "name": "python3"
  },
  "language_info": {
   "codemirror_mode": {
    "name": "ipython",
    "version": 3
   },
   "file_extension": ".py",
   "mimetype": "text/x-python",
   "name": "python",
   "nbconvert_exporter": "python",
   "pygments_lexer": "ipython3",
   "version": "3.9.12"
  }
 },
 "nbformat": 4,
 "nbformat_minor": 5
}
