{
 "cells": [
  {
   "cell_type": "markdown",
   "id": "ce24195f",
   "metadata": {},
   "source": [
    "# 1. Read and Show Image"
   ]
  },
  {
   "cell_type": "code",
   "execution_count": 1,
   "id": "df0764eb",
   "metadata": {},
   "outputs": [],
   "source": [
    "import cv2"
   ]
  },
  {
   "cell_type": "markdown",
   "id": "a58db207",
   "metadata": {},
   "source": [
    "## Image Read and Show"
   ]
  },
  {
   "cell_type": "code",
   "execution_count": 4,
   "id": "dbb891ab",
   "metadata": {},
   "outputs": [],
   "source": [
    "img =cv2.imread(r'E:\\Computer-Vision\\Images\\boat.jpg') # read image\n",
    "cv2.imshow('Boat Image',img) # show image\n",
    "cv2.waitKey(10000)  # image frame wait time-ms and 0 pass keyboard any key press\n",
    "# cv2.destroyAllWindows()  # all window close\n",
    "cv2.destroyWindow('Boat Image')  # only one window close give particular window name\n"
   ]
  },
  {
   "cell_type": "markdown",
   "id": "39f39b2a",
   "metadata": {},
   "source": [
    "## Image Multiple Window Open"
   ]
  },
  {
   "cell_type": "code",
   "execution_count": 5,
   "id": "626f8906",
   "metadata": {},
   "outputs": [],
   "source": [
    "img =cv2.imread(r'E:\\Computer-Vision\\Images\\boat.jpg') # read image\n",
    "cv2.imshow('Boat Image',img) # show image\n",
    "cv2.imshow('Boat Image',img) # show image\n",
    "cv2.waitKey(0)  # image frame wait time-ms and 0 pass keyboard any key press\n",
    "cv2.destroyAllWindows()  # all window close\n",
    "# cv2.destroyWindow()  # only one window close"
   ]
  },
  {
   "cell_type": "markdown",
   "id": "2d0babac",
   "metadata": {},
   "source": [
    "## Resize Image"
   ]
  },
  {
   "cell_type": "code",
   "execution_count": 6,
   "id": "ab21936e",
   "metadata": {},
   "outputs": [],
   "source": [
    "img =cv2.imread(r'E:\\Computer-Vision\\Images\\cat.jpg') # read image\n",
    "\n",
    "#Resize image width ,height\n",
    "img =cv2.resize(img,(500,500))\n",
    "\n",
    "cv2.imshow('Cat Image',img) # show image\n",
    "cv2.waitKey(0)  # image frame wait time-ms and 0 pass keyboard any key press\n",
    "# cv2.destroyAllWindows()  # all window close\n",
    "cv2.destroyWindow('Cat Image')  # only one window close give particular window name\n"
   ]
  },
  {
   "cell_type": "code",
   "execution_count": 9,
   "id": "df93e81d",
   "metadata": {},
   "outputs": [
    {
     "data": {
      "text/plain": [
       "array([[1, 2, 3, 1, 2, 3],\n",
       "       [1, 2, 3, 1, 2, 3]])"
      ]
     },
     "execution_count": 9,
     "metadata": {},
     "output_type": "execute_result"
    }
   ],
   "source": [
    "import numpy as np\n",
    "v =np.array([[1,2,3,1,2,3],[1,2,3,1,2,3]])\n",
    "v"
   ]
  },
  {
   "cell_type": "code",
   "execution_count": 10,
   "id": "73128922",
   "metadata": {},
   "outputs": [
    {
     "name": "stdout",
     "output_type": "stream",
     "text": [
      "[[[  5  22  35]\n",
      "  [  7  24  37]\n",
      "  [ 10  27  40]\n",
      "  ...\n",
      "  [184 181 166]\n",
      "  [184 181 166]\n",
      "  [184 181 166]]\n",
      "\n",
      " [[  8  25  38]\n",
      "  [  9  26  39]\n",
      "  [  9  28  41]\n",
      "  ...\n",
      "  [184 181 166]\n",
      "  [184 181 166]\n",
      "  [184 181 166]]\n",
      "\n",
      " [[ 13  30  43]\n",
      "  [ 12  31  44]\n",
      "  [ 12  31  46]\n",
      "  ...\n",
      "  [184 181 166]\n",
      "  [184 181 166]\n",
      "  [184 181 166]]\n",
      "\n",
      " ...\n",
      "\n",
      " [[  9  14  17]\n",
      "  [  4   9  12]\n",
      "  [  9  14  17]\n",
      "  ...\n",
      "  [156 158 158]\n",
      "  [156 158 158]\n",
      "  [156 158 158]]\n",
      "\n",
      " [[ 22  27  30]\n",
      "  [  5  10  13]\n",
      "  [  9  14  17]\n",
      "  ...\n",
      "  [156 158 158]\n",
      "  [156 158 158]\n",
      "  [156 158 158]]\n",
      "\n",
      " [[ 40  45  48]\n",
      "  [ 10  15  18]\n",
      "  [ 10  15  18]\n",
      "  ...\n",
      "  [156 158 158]\n",
      "  [156 158 158]\n",
      "  [156 158 158]]]\n"
     ]
    }
   ],
   "source": [
    "img =cv2.imread(r'E:\\Computer-Vision\\Images\\cat.jpg') # read image\n",
    "print(img) #RGB"
   ]
  },
  {
   "cell_type": "markdown",
   "id": "0d883929",
   "metadata": {},
   "source": [
    "# 2. Show Multiple Image and Slide Show\n",
    "### Horizontal and Vertical"
   ]
  },
  {
   "cell_type": "code",
   "execution_count": 11,
   "id": "0d784790",
   "metadata": {},
   "outputs": [],
   "source": [
    "img =cv2.imread(r'E:\\Computer-Vision\\Images\\lion.jpg')\n",
    "\n",
    "#Resize image width ,height\n",
    "img =cv2.resize(img,(200,200))\n",
    "\n",
    "#Show horizontal multiple image in one frame\n",
    "h =np.hstack((img,img))\n",
    "\n",
    "#Show vertical multiple image in one frame\n",
    "v =np.vstack((h,h))\n",
    "\n",
    "cv2.imshow('Lion Image',v)\n",
    "cv2.waitKey(0)\n",
    "cv2.destroyAllWindows()"
   ]
  },
  {
   "cell_type": "markdown",
   "id": "ca8a57d3",
   "metadata": {},
   "source": [
    "## Slide Image Show"
   ]
  },
  {
   "cell_type": "code",
   "execution_count": 13,
   "id": "104825c4",
   "metadata": {},
   "outputs": [
    {
     "data": {
      "text/plain": [
       "['boat.jpg',\n",
       " 'cat.jpg',\n",
       " 'chair.jpg',\n",
       " 'clock.jpg',\n",
       " 'dog.jpg',\n",
       " 'elephant.jpg',\n",
       " 'fan.jpg',\n",
       " 'Honda Civic.jpg',\n",
       " 'laptop.jpg',\n",
       " 'lion.jpg']"
      ]
     },
     "execution_count": 13,
     "metadata": {},
     "output_type": "execute_result"
    }
   ],
   "source": [
    "import os\n",
    "# show all images with help of os\n",
    "list_name =os.listdir(r'E:\\Computer-Vision\\Images')\n",
    "list_name"
   ]
  },
  {
   "cell_type": "code",
   "execution_count": 15,
   "id": "c9901d10",
   "metadata": {},
   "outputs": [],
   "source": [
    "for name in list_name:\n",
    "    path ='E:\\\\Computer-Vision\\\\Images'\n",
    "    img_name = path + '\\\\' + name \n",
    "    img = cv2.imread(img_name)\n",
    "    img =cv2.resize(img,(200,200))\n",
    "    cv2.imshow('Different Images',img)\n",
    "    cv2.waitKey(1000)\n",
    "cv2.destroyAllWindows()\n",
    "    "
   ]
  },
  {
   "cell_type": "code",
   "execution_count": null,
   "id": "741ea1f8",
   "metadata": {},
   "outputs": [],
   "source": []
  }
 ],
 "metadata": {
  "kernelspec": {
   "display_name": "base",
   "language": "python",
   "name": "python3"
  },
  "language_info": {
   "codemirror_mode": {
    "name": "ipython",
    "version": 3
   },
   "file_extension": ".py",
   "mimetype": "text/x-python",
   "name": "python",
   "nbconvert_exporter": "python",
   "pygments_lexer": "ipython3",
   "version": "3.9.12"
  }
 },
 "nbformat": 4,
 "nbformat_minor": 5
}
