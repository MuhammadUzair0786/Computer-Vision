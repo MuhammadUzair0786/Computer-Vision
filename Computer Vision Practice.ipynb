{
 "cells": [
  {
   "cell_type": "markdown",
   "id": "ce24195f",
   "metadata": {},
   "source": [
    "# 1. Read and Show Image"
   ]
  },
  {
   "cell_type": "code",
   "execution_count": 2,
   "id": "df0764eb",
   "metadata": {},
   "outputs": [],
   "source": [
    "import cv2\n",
    "import numpy as np"
   ]
  },
  {
   "cell_type": "markdown",
   "id": "a58db207",
   "metadata": {},
   "source": [
    "## Image Read and Show"
   ]
  },
  {
   "cell_type": "code",
   "execution_count": 4,
   "id": "dbb891ab",
   "metadata": {},
   "outputs": [],
   "source": [
    "img =cv2.imread(r'E:\\Computer-Vision\\Images\\boat.jpg') # read image\n",
    "cv2.imshow('Boat Image',img) # show image\n",
    "cv2.waitKey(10000)  # image frame wait time-ms and 0 pass keyboard any key press\n",
    "# cv2.destroyAllWindows()  # all window close\n",
    "cv2.destroyWindow('Boat Image')  # only one window close give particular window name\n"
   ]
  },
  {
   "cell_type": "markdown",
   "id": "39f39b2a",
   "metadata": {},
   "source": [
    "## Image Multiple Window Open"
   ]
  },
  {
   "cell_type": "code",
   "execution_count": 5,
   "id": "626f8906",
   "metadata": {},
   "outputs": [],
   "source": [
    "img =cv2.imread(r'E:\\Computer-Vision\\Images\\boat.jpg') # read image\n",
    "cv2.imshow('Boat Image',img) # show image\n",
    "cv2.imshow('Boat Image',img) # show image\n",
    "cv2.waitKey(0)  # image frame wait time-ms and 0 pass keyboard any key press\n",
    "cv2.destroyAllWindows()  # all window close\n",
    "# cv2.destroyWindow()  # only one window close"
   ]
  },
  {
   "cell_type": "markdown",
   "id": "2d0babac",
   "metadata": {},
   "source": [
    "## Resize Image"
   ]
  },
  {
   "cell_type": "code",
   "execution_count": 6,
   "id": "ab21936e",
   "metadata": {},
   "outputs": [],
   "source": [
    "img =cv2.imread(r'E:\\Computer-Vision\\Images\\cat.jpg') # read image\n",
    "\n",
    "#Resize image width ,height\n",
    "img =cv2.resize(img,(500,500))\n",
    "\n",
    "cv2.imshow('Cat Image',img) # show image\n",
    "cv2.waitKey(0)  # image frame wait time-ms and 0 pass keyboard any key press\n",
    "# cv2.destroyAllWindows()  # all window close\n",
    "cv2.destroyWindow('Cat Image')  # only one window close give particular window name\n"
   ]
  },
  {
   "cell_type": "code",
   "execution_count": 9,
   "id": "df93e81d",
   "metadata": {},
   "outputs": [
    {
     "data": {
      "text/plain": [
       "array([[1, 2, 3, 1, 2, 3],\n",
       "       [1, 2, 3, 1, 2, 3]])"
      ]
     },
     "execution_count": 9,
     "metadata": {},
     "output_type": "execute_result"
    }
   ],
   "source": [
    "import numpy as np\n",
    "v =np.array([[1,2,3,1,2,3],[1,2,3,1,2,3]])\n",
    "v"
   ]
  },
  {
   "cell_type": "code",
   "execution_count": 10,
   "id": "73128922",
   "metadata": {},
   "outputs": [
    {
     "name": "stdout",
     "output_type": "stream",
     "text": [
      "[[[  5  22  35]\n",
      "  [  7  24  37]\n",
      "  [ 10  27  40]\n",
      "  ...\n",
      "  [184 181 166]\n",
      "  [184 181 166]\n",
      "  [184 181 166]]\n",
      "\n",
      " [[  8  25  38]\n",
      "  [  9  26  39]\n",
      "  [  9  28  41]\n",
      "  ...\n",
      "  [184 181 166]\n",
      "  [184 181 166]\n",
      "  [184 181 166]]\n",
      "\n",
      " [[ 13  30  43]\n",
      "  [ 12  31  44]\n",
      "  [ 12  31  46]\n",
      "  ...\n",
      "  [184 181 166]\n",
      "  [184 181 166]\n",
      "  [184 181 166]]\n",
      "\n",
      " ...\n",
      "\n",
      " [[  9  14  17]\n",
      "  [  4   9  12]\n",
      "  [  9  14  17]\n",
      "  ...\n",
      "  [156 158 158]\n",
      "  [156 158 158]\n",
      "  [156 158 158]]\n",
      "\n",
      " [[ 22  27  30]\n",
      "  [  5  10  13]\n",
      "  [  9  14  17]\n",
      "  ...\n",
      "  [156 158 158]\n",
      "  [156 158 158]\n",
      "  [156 158 158]]\n",
      "\n",
      " [[ 40  45  48]\n",
      "  [ 10  15  18]\n",
      "  [ 10  15  18]\n",
      "  ...\n",
      "  [156 158 158]\n",
      "  [156 158 158]\n",
      "  [156 158 158]]]\n"
     ]
    }
   ],
   "source": [
    "img =cv2.imread(r'E:\\Computer-Vision\\Images\\cat.jpg') # read image\n",
    "print(img) #RGB"
   ]
  },
  {
   "cell_type": "markdown",
   "id": "0d883929",
   "metadata": {},
   "source": [
    "# 2. Show Multiple Image and Slide Show\n",
    "### Horizontal and Vertical"
   ]
  },
  {
   "cell_type": "code",
   "execution_count": 11,
   "id": "0d784790",
   "metadata": {},
   "outputs": [],
   "source": [
    "img =cv2.imread(r'E:\\Computer-Vision\\Images\\lion.jpg')\n",
    "\n",
    "#Resize image width ,height\n",
    "img =cv2.resize(img,(200,200))\n",
    "\n",
    "#Show horizontal multiple image in one frame\n",
    "h =np.hstack((img,img))\n",
    "\n",
    "#Show vertical multiple image in one frame\n",
    "v =np.vstack((h,h))\n",
    "\n",
    "cv2.imshow('Lion Image',v)\n",
    "cv2.waitKey(0)\n",
    "cv2.destroyAllWindows()"
   ]
  },
  {
   "cell_type": "markdown",
   "id": "ca8a57d3",
   "metadata": {},
   "source": [
    "## Slide Image Show"
   ]
  },
  {
   "cell_type": "code",
   "execution_count": 13,
   "id": "104825c4",
   "metadata": {},
   "outputs": [
    {
     "data": {
      "text/plain": [
       "['boat.jpg',\n",
       " 'cat.jpg',\n",
       " 'chair.jpg',\n",
       " 'clock.jpg',\n",
       " 'dog.jpg',\n",
       " 'elephant.jpg',\n",
       " 'fan.jpg',\n",
       " 'Honda Civic.jpg',\n",
       " 'laptop.jpg',\n",
       " 'lion.jpg']"
      ]
     },
     "execution_count": 13,
     "metadata": {},
     "output_type": "execute_result"
    }
   ],
   "source": [
    "import os\n",
    "# show all images with help of os\n",
    "list_name =os.listdir(r'E:\\Computer-Vision\\Images')\n",
    "list_name"
   ]
  },
  {
   "cell_type": "code",
   "execution_count": 15,
   "id": "c9901d10",
   "metadata": {},
   "outputs": [],
   "source": [
    "for name in list_name:\n",
    "    path ='E:\\\\Computer-Vision\\\\Images'\n",
    "    img_name = path + '\\\\' + name \n",
    "    img = cv2.imread(img_name)\n",
    "    img =cv2.resize(img,(200,200))\n",
    "    cv2.imshow('Different Images',img)\n",
    "    cv2.waitKey(1000)\n",
    "cv2.destroyAllWindows()\n",
    "    "
   ]
  },
  {
   "cell_type": "markdown",
   "id": "13a87f80",
   "metadata": {},
   "source": [
    "# 3. Image imread Function (RGB,grayscale)"
   ]
  },
  {
   "cell_type": "code",
   "execution_count": 2,
   "id": "741ea1f8",
   "metadata": {},
   "outputs": [],
   "source": [
    "# 1 is used for RGB color image flag is 1\n",
    "import cv2\n",
    "img = cv2.imread(r'E:\\Computer-Vision\\Images\\clock.jpg', 1)\n",
    "img = cv2.resize(img,(200,200))\n",
    "cv2.imshow(\"RGB Image flag = 1\",img)\n",
    "cv2.waitKey(0)\n",
    "cv2.destroyAllWindows()"
   ]
  },
  {
   "cell_type": "code",
   "execution_count": 3,
   "id": "639477ec",
   "metadata": {},
   "outputs": [],
   "source": [
    "# 0 is used for grayscale image flag is 0\n",
    "import cv2\n",
    "img = cv2.imread(r'E:\\Computer-Vision\\Images\\clock.jpg', 0)\n",
    "img = cv2.resize(img,(200,200))\n",
    "cv2.imshow(\"Grayscale Image flag = 0\",img)\n",
    "cv2.waitKey(0)\n",
    "cv2.destroyAllWindows()"
   ]
  },
  {
   "cell_type": "markdown",
   "id": "5fae2344",
   "metadata": {},
   "source": [
    "# 4. Text Over a Image"
   ]
  },
  {
   "cell_type": "code",
   "execution_count": 1,
   "id": "50d0019b",
   "metadata": {},
   "outputs": [],
   "source": [
    "import cv2\n"
   ]
  },
  {
   "cell_type": "code",
   "execution_count": 71,
   "id": "1e7c383a",
   "metadata": {},
   "outputs": [],
   "source": [
    "img_get =cv2.imread(r'E:\\Computer-Vision\\Images\\clock.jpg', -1)  # -1 is used for unchanged image\n",
    "img_get =cv2.resize(img_get,(500,600))\n",
    "\n",
    "# Draw text on image parameters\n",
    "img =img_get\n",
    "text ='Clock Image' # text to be added\n",
    "org = (150, 50)  # position of text\n",
    "fontFace = cv2.FONT_HERSHEY_DUPLEX # font type\n",
    "fontscale = 1 # font scale\n",
    "color = (0, 255, 0)  # BGR color format\n",
    "thickness = 2  # thickness of text\n",
    "lineType =cv2.LINE_8 # line type\n",
    "bottomLeftOrigin = False  # text origin\n",
    "\n",
    "\n",
    "\n",
    "txt =cv2.putText(img, text, org, fontFace, fontscale, color, thickness, lineType, bottomLeftOrigin)\n",
    "\n",
    "cv2.imshow('Clock Image',img_get) \n",
    "cv2.waitKey(0)\n",
    "cv2.destroyAllWindows()\n"
   ]
  },
  {
   "cell_type": "markdown",
   "id": "173439ab",
   "metadata": {},
   "source": [
    "# 5. Draw Line and Rectangle on Image "
   ]
  },
  {
   "cell_type": "code",
   "execution_count": 61,
   "id": "cfd2d99f",
   "metadata": {},
   "outputs": [],
   "source": [
    "img_get =cv2.imread(r'E:\\Computer-Vision\\Images\\lion.jpg', -1)  # -1 is used for unchanged image\n",
    "img_get =cv2.resize(img_get,(400,400))\n",
    "\n",
    "# Draw line on image change parameters\n",
    "img =cv2.line(img_get, pt1=(200, 100),pt2= (300 , 100), color =(255, 0, 0), thickness=4,lineType =4)  # line start point, end point, color, thickness\n",
    "\n",
    "cv2.imshow('Lion Image',img) \n",
    "cv2.waitKey(0)\n",
    "cv2.destroyAllWindows()\n"
   ]
  },
  {
   "cell_type": "code",
   "execution_count": null,
   "id": "477e4f50",
   "metadata": {},
   "outputs": [],
   "source": [
    "img_get =cv2.imread(r'E:\\Computer-Vision\\Images\\lion.jpg', -1)  # -1 is used for unchanged image\n",
    "img_get =cv2.resize(img_get,(400,400))\n",
    "\n",
    "# Draw text on image parameters\n",
    "img =img_get\n",
    "text ='lion' # text to be added\n",
    "org = (170, 25)  # position of text\n",
    "fontFace = 2 # font type\n",
    "fontscale = 1 # font scale\n",
    "color = (0, 0, 255)  # BGR color format\n",
    "thickness = 2  # thickness of text\n",
    "lineType = 16 # line type\n",
    "bottomLeftOrigin = False  # text origin\n",
    "\n",
    "txt =cv2.putText(img, text, org, fontFace, fontscale, color, thickness, lineType, bottomLeftOrigin)\n",
    "\n",
    " \n",
    "# Draw Rectangle on image change parameters\n",
    "img =cv2.rectangle(img_get, pt1=(170, 30),pt2= (320 , 300), color =(0, 255, 0), thickness=2,lineType =16)  # line start point, end point, color, thickness\n",
    "\n",
    "cv2.imshow('Lion Image',img) \n",
    "cv2.waitKey(0)\n",
    "cv2.destroyAllWindows()"
   ]
  },
  {
   "cell_type": "markdown",
   "id": "22f87a57",
   "metadata": {},
   "source": [
    "# 6. Draw Circle and Elllipse On Image"
   ]
  },
  {
   "cell_type": "code",
   "execution_count": 122,
   "id": "5c8e1249",
   "metadata": {},
   "outputs": [],
   "source": [
    "img_get =cv2.imread(r'E:\\Computer-Vision\\Images\\dog.jpg', -1)  # -1 is used for unchanged image\n",
    "img_get =cv2.resize(img_get,(400,400))\n",
    "\n",
    "# Draw circle on image change parameters if thickness =-1 then circle is filled\n",
    "img =cv2.circle(img =img_get, center=(300, 100), radius=65, color=(0, 0, 255), thickness=2, lineType=16)  # center point, radius, color, thickness\n",
    "\n",
    "\n",
    "\n",
    "cv2.imshow('Dog Image',img_get) \n",
    "cv2.waitKey(0)\n",
    "cv2.destroyAllWindows()\n"
   ]
  },
  {
   "cell_type": "code",
   "execution_count": 159,
   "id": "efef136c",
   "metadata": {},
   "outputs": [],
   "source": [
    "img_get =cv2.imread(r'E:\\Computer-Vision\\Images\\dog.jpg', -1)  # -1 is used for unchanged image\n",
    "img_get =cv2.resize(img_get,(400,400))\n",
    "\n",
    "\n",
    "# write text on image\n",
    "txt_img =cv2.putText(img_get, 'Dog', (250, 50), cv2.FONT_HERSHEY_SIMPLEX, 1, (255, 0, 0), 2, cv2.LINE_AA)\n",
    "\n",
    "\n",
    "\n",
    "# Draw Ellipsis on image change parameters if thickness =-1 then circle is filled\n",
    "img =cv2.ellipse(img =img_get, center=(305, 115), axes =(35,60), \n",
    "                 angle =10, startAngle =0, endAngle =360,\n",
    "                 color=(0, 0, 255), thickness=2,\n",
    "                 lineType=16)  # center point , color, thickness\n",
    "\n",
    "\n",
    "cv2.imshow('Dog Image',img_get) \n",
    "cv2.waitKey(0)\n",
    "cv2.destroyAllWindows()"
   ]
  },
  {
   "cell_type": "markdown",
   "id": "cb519d57",
   "metadata": {},
   "source": [
    "# 7. Arithmetic Operation on Image using Opencv"
   ]
  },
  {
   "cell_type": "code",
   "execution_count": 173,
   "id": "8b8ea2ec",
   "metadata": {},
   "outputs": [],
   "source": [
    "img1 =cv2.imread(r'E:\\Computer-Vision\\Images\\lion.jpg', -1)  # -1 is used for unchanged image\n",
    "img2 =cv2.imread(r'E:\\Computer-Vision\\Images\\cat.jpg', -1)  # -1 is used for unchanged image\n",
    "\n",
    "img1 =cv2.resize(img1,(400,400))\n",
    "img2 =cv2.resize(img2,(400,400))\n",
    "\n",
    "# AddWeighted two images \n",
    "img_add = cv2.addWeighted(img1,1, img2, 0.5,1)  # add two images change parameters\n",
    "cv2.imshow('lion and Cat Image Add',img_add)\n",
    "cv2.waitKey(0)\n",
    "cv2.destroyAllWindows()"
   ]
  },
  {
   "cell_type": "code",
   "execution_count": 172,
   "id": "36eda822",
   "metadata": {},
   "outputs": [],
   "source": [
    "img1 =cv2.imread(r'E:\\Computer-Vision\\Images\\lion.jpg', -1)  # -1 is used for unchanged image\n",
    "img2 =cv2.imread(r'E:\\Computer-Vision\\Images\\cat.jpg', -1)  # -1 is used for unchanged image\n",
    "\n",
    "img1 =cv2.resize(img1,(400,400))\n",
    "img2 =cv2.resize(img2,(400,400))\n",
    "\n",
    "# AddWeighted two images \n",
    "img_add = cv2.subtract(img1, img2)  # subtract two images\n",
    "cv2.imshow('lion and Cat Image Add',img_add)\n",
    "cv2.waitKey(0)\n",
    "cv2.destroyAllWindows()"
   ]
  },
  {
   "cell_type": "markdown",
   "id": "5276b658",
   "metadata": {},
   "source": [
    "# 8. Edge Detection using OpenCV(Canny)"
   ]
  },
  {
   "cell_type": "code",
   "execution_count": 180,
   "id": "a2b5d615",
   "metadata": {},
   "outputs": [
    {
     "name": "stdout",
     "output_type": "stream",
     "text": [
      "(300, 300, 3)\n",
      "(300, 300)\n"
     ]
    }
   ],
   "source": [
    "img =cv2.imread(r'E:\\Computer-Vision\\Images\\Uzair.jpg', -1)  # -1 is used for unchanged image\n",
    "img =cv2.resize(img,(300,300))\n",
    "print(img.shape)  # shape of image\n",
    "\n",
    "new_img =cv2.Canny(img,100,200,apertureSize =5,L2gradient=True)  # Edge detection using Canny method change threshold values for clear edges\n",
    "print(new_img.shape)  # shape of new image after edge detection\n",
    "\n",
    "cv2.imshow('Orginal Image',img)\n",
    "cv2.imshow('Edge Detection Image',new_img)\n",
    "\n",
    "cv2.waitKey(0)\n",
    "cv2.destroyAllWindows()"
   ]
  },
  {
   "cell_type": "markdown",
   "id": "e332f900",
   "metadata": {},
   "source": [
    "# 9.Image Scaling, Rotating using OpenCV  "
   ]
  },
  {
   "cell_type": "code",
   "execution_count": 15,
   "id": "f62b429f",
   "metadata": {},
   "outputs": [],
   "source": [
    "org_img =cv2.imread(r'E:\\Computer-Vision\\Images\\Person.jpg', -1)  # -1 is used for unchanged image\n",
    "res_img =cv2.resize(img,(300,400))\n",
    "\n",
    "cv2.imshow('Orginal Image',org_img)\n",
    "cv2.imshow('Scaling Image',res_img)\n",
    "\n",
    "cv2.waitKey(0)\n",
    "cv2.destroyAllWindows()"
   ]
  },
  {
   "cell_type": "code",
   "execution_count": null,
   "id": "960f165e",
   "metadata": {},
   "outputs": [],
   "source": [
    "org_img =cv2.imread(r'E:\\Computer-Vision\\Images\\Person.jpg', -1)  # -1 is used for unchanged image\n",
    "res_img =cv2.resize(img,(300,400))\n",
    "org_img = cv2.resize(org_img, (300, 400))  # Resize original image to match resized image dimensions\n",
    "\n",
    "# Rotate the resized image by 45 degrees\n",
    "w,h =res_img.shape[0],res_img.shape[1]  # Get width and height of resized image\n",
    "m = cv2.getRotationMatrix2D(center=(w/2,h/2), angle=45,scale =1)  # Get rotation matrix for image rotation\n",
    "new_img = cv2.warpAffine(res_img, m, (h, w))  # Apply rotation to the resized image\n",
    "\n",
    "# Stack original and rotated images horizontally\n",
    "h =np.hstack((org_img,new_img))  \n",
    "cv2.imshow('Orginal Image and Rotate Image',h)\n",
    "\n",
    "cv2.waitKey(0)\n",
    "cv2.destroyAllWindows()"
   ]
  },
  {
   "cell_type": "markdown",
   "id": "f1f7f8c0",
   "metadata": {},
   "source": [
    "# 10. Image bluring using OpenCV"
   ]
  },
  {
   "cell_type": "code",
   "execution_count": null,
   "id": "3ca7907e",
   "metadata": {},
   "outputs": [],
   "source": [
    "org_img =cv2.imread(r'E:\\Computer-Vision\\Images\\Person.jpg', -1)  # -1 is used for unchanged image\n",
    "res_img =cv2.resize(img,(300,400))\n",
    "org_img = cv2.resize(org_img, (300, 400))  # Resize original image to match resized image dimensions\n",
    "\n",
    "# Blurring the resized image using GaussianBlur\n",
    "# Three Type of blurring methods (Gaussian, Median, Bilateral)\n",
    "\n",
    "blurred_img = cv2.GaussianBlur(res_img, (15, 15), 0)  # Apply Gaussian blur with a kernel size of 15x15\n",
    "# m_blurred_img = cv2.medianBlur(blurred_img, 15)  # Apply median blur with a kernel size of 15\n",
    "# b_blurred_img =cv2.bilateralFilter(blurred_img, d=15, sigmaColor=75, sigmaSpace=75)  # Apply bilateral filter with specified parameters\n",
    "\n",
    "\n",
    "# Stack original and rotated images horizontally\n",
    "g =np.hstack((org_img,blurred_img))  \n",
    "cv2.imshow('Orginal Image and Rotate Image',g)\n",
    "\n",
    "cv2.waitKey(0)\n",
    "cv2.destroyAllWindows()"
   ]
  },
  {
   "cell_type": "markdown",
   "id": "8e6b9fcb",
   "metadata": {},
   "source": [
    "# 11.imwrite method using OpenCV"
   ]
  },
  {
   "cell_type": "code",
   "execution_count": 19,
   "id": "8db1be3e",
   "metadata": {},
   "outputs": [],
   "source": [
    "org_img =cv2.imread(r'E:\\Computer-Vision\\Images\\Person.jpg', -1)  # -1 is used for unchanged image\n",
    "res_img =cv2.resize(org_img,(300,400))\n",
    "\n",
    "\n",
    "h =np.hstack((res_img,res_img)) \n",
    "v =np.vstack((h,h))  \n",
    "\n",
    " # imwrite function Save the image to a file\n",
    "imwrite_img =cv2.imwrite('imwrite image.jpg', v) \n",
    "\n",
    "cv2.imshow('ImWrite Funtion',v)\n",
    "cv2.waitKey(0)\n",
    "cv2.destroyAllWindows()"
   ]
  },
  {
   "cell_type": "markdown",
   "id": "92453bc2",
   "metadata": {},
   "source": [
    "# 12.MakeBorder using OpenCV"
   ]
  },
  {
   "cell_type": "code",
   "execution_count": null,
   "id": "b1c7e0ab",
   "metadata": {},
   "outputs": [],
   "source": [
    "img =cv2.imread(r'E:\\Computer-Vision\\Images\\Person.jpg', -1)  # -1 is used for unchanged image\n",
    "img =cv2.resize(org_img,(300,400))\n",
    "\n",
    "# Draw Border side of Images\n",
    "border_img =cv2.copyMakeBorder(img,20,20,20,20, borderType=cv2.BORDER_CONSTANT, value=2)\n",
    "\n",
    "\n",
    "cv2.imshow('Border Funtion',border_img)\n",
    "cv2.waitKey(0)\n",
    "cv2.destroyAllWindows()"
   ]
  },
  {
   "cell_type": "markdown",
   "id": "c7b1cd1b",
   "metadata": {},
   "source": [
    "# 13.Play a video using OpenCV"
   ]
  },
  {
   "cell_type": "code",
   "execution_count": 47,
   "id": "0504902b",
   "metadata": {},
   "outputs": [],
   "source": [
    "# Open video file\n",
    "cap =cv2.VideoCapture(r'E:\\Computer-Vision\\Images\\Video.mp4')\n",
    "\n",
    "# Check if the video is opened successfully  \n",
    "while cap.isOpened():\n",
    "    r,frame =cap.read()\n",
    "    if r == True:\n",
    "        frame =cv2.resize(frame,(500,500))  # Resize video frame\n",
    "        cv2.imshow('Video Frame',frame)\n",
    "        if cv2.waitKey(25) & 0xff == ord('q'):\n",
    "            break\n",
    "    else:\n",
    "        break\n",
    "\n",
    "cap.release()  # Release the video capture object\n",
    "\n",
    "cv2.destroyAllWindows() # Close all OpenCV windows\n"
   ]
  },
  {
   "cell_type": "markdown",
   "id": "c5bab9df",
   "metadata": {},
   "source": [
    "# 14.Capture Video from the Camera using OpenCV"
   ]
  },
  {
   "cell_type": "code",
   "execution_count": 31,
   "id": "99d2934c",
   "metadata": {},
   "outputs": [],
   "source": [
    "cap =cv2.VideoCapture(0) # Capture video from the camera\n",
    "\n",
    "while True:\n",
    "    r,frame =cap.read()\n",
    "    if r == True:\n",
    "        frame =cv2.resize(frame,(500,500))  # Resize video frame\n",
    "        cv2.imshow('Camera Video Frame',frame)\n",
    "        if cv2.waitKey(25) & 0xff == ord('q'):\n",
    "            break\n",
    "    else:\n",
    "        break\n",
    "\n",
    "cap.release()  # Release the video capture object\n",
    "\n",
    "cv2.destroyAllWindows() # Close all OpenCV windows"
   ]
  },
  {
   "cell_type": "markdown",
   "id": "aafc2790",
   "metadata": {},
   "source": [
    "# 15.Slow and Fast Motion Video"
   ]
  },
  {
   "cell_type": "code",
   "execution_count": 35,
   "id": "f8f375d3",
   "metadata": {},
   "outputs": [],
   "source": [
    "cap =cv2.VideoCapture(r'E:\\Computer-Vision\\Images\\Video.mp4') # Capture video from the camera\n",
    "\n",
    "while cap.isOpened():\n",
    "    r,frame =cap.read()\n",
    "    if r == True:\n",
    "        frame =cv2.resize(frame,(500,500))  # Resize video frame\n",
    "        cv2.imshow('Camera Video Frame',frame)\n",
    "        \n",
    "        # Slow and Fast Motion Video if you want to slow down the video, increase the wait time\n",
    "        # if you want to speed up the video, decrease the wait time\n",
    "        if cv2.waitKey(5) & 0xff == ord('q'): # #fast\n",
    "        # if cv2.waitKey(50) & 0xff == ord('q'): #slow\n",
    "            break\n",
    "    else:\n",
    "        break\n",
    "\n",
    "cap.release()  # Release the video capture object\n",
    "\n",
    "cv2.destroyAllWindows() # Close all OpenCV windows "
   ]
  },
  {
   "cell_type": "markdown",
   "id": "bf095c94",
   "metadata": {},
   "source": [
    "# 16. Cropping Image or Image Translation using OpenCV "
   ]
  },
  {
   "cell_type": "code",
   "execution_count": 43,
   "id": "6e11aff2",
   "metadata": {},
   "outputs": [],
   "source": [
    "img =cv2.imread(r'E:\\Computer-Vision\\Images\\Person.jpg', -1)  # -1 is used for unchanged image\n",
    "img =cv2.resize(org_img,(300,400))\n",
    "\n",
    "# Cropping Image or Image Translation using OpenCV\n",
    "m = np.float32([[1, 0, 50], [0, 1, 100]])  # Translation matrix to translate the image by 50 pixels in x and y direction\n",
    "new_img =cv2.warpAffine(img,m,(300,400) )  # Translate the image by 50 pixels in x and y direction\n",
    "\n",
    "cv2.imshow('Orginal Image',img)\n",
    "cv2.imshow('Map Image',m)\n",
    "cv2.imshow('Crop Image',new_img)\n",
    "\n",
    "cv2.waitKey(0)\n",
    "cv2.destroyAllWindows() # Close all OpenCV windows "
   ]
  },
  {
   "cell_type": "markdown",
   "id": "7a24ead2",
   "metadata": {},
   "source": [
    "# 17.Background subtraction using OpenCV\n",
    "### Agr ham kasi video ma sa chata ha k sirf wohi object detect ho jiski hama zorart ha to usko use karta ha"
   ]
  },
  {
   "cell_type": "code",
   "execution_count": 49,
   "id": "c865089b",
   "metadata": {},
   "outputs": [],
   "source": [
    "# Open video file\n",
    "cap =cv2.VideoCapture(r'E:\\Computer-Vision\\Images\\Video.mp4')\n",
    "\n",
    "# Create background subtractor object\n",
    "sub_m = cv2.createBackgroundSubtractorMOG2() \n",
    "\n",
    "# Check if the video is opened successfully  \n",
    "while cap.isOpened():\n",
    "    r,frame = cap.read()\n",
    "    if r == True:\n",
    "        frame =cv2.resize(frame,(500,400))  # Resize video frame  \n",
    "        sub_video = sub_m.apply(frame)  \n",
    "        cv2.imshow('Background Subtraction Video Frame',sub_video)\n",
    "        cv2.imshow('Video Frame',frame)\n",
    "        if cv2.waitKey(20) & 0xff == ord('q'):\n",
    "            break\n",
    "    else:\n",
    "        break\n",
    "\n",
    "cap.release()  # Release the video capture object\n",
    "\n",
    "cv2.destroyAllWindows() # Close all OpenCV windows\n"
   ]
  },
  {
   "cell_type": "markdown",
   "id": "44e9a322",
   "metadata": {},
   "source": [
    "# 18.Extract images from video using OpenCV"
   ]
  },
  {
   "cell_type": "code",
   "execution_count": 51,
   "id": "c0a72b69",
   "metadata": {},
   "outputs": [],
   "source": [
    "# Open video file\n",
    "cap =cv2.VideoCapture(r'E:\\Computer-Vision\\Images\\Video.mp4')\n",
    "\n",
    "c =0\n",
    "# Check if the video is opened successfully  \n",
    "while True:\n",
    "    r,frame =cap.read()\n",
    "    if r == True:\n",
    "        frame =cv2.resize(frame,(500,500))  # Resize video frame\n",
    "        \n",
    "        # Extract images from video using OpenCV\n",
    "        \n",
    "        filename = 'E://Computer-Vision//Images//org_img'+str(c)+'.jpg'  # Create a filename for the extracted image\n",
    "        cv2.imwrite(filename, frame)  # Save the extracted image to the file\n",
    "        cv2.imshow('Extracted Image', frame)\n",
    "        c =c+1  # Increment the counter for the next image filename\n",
    "        cv2.imshow('Video Frame',frame)\n",
    "        \n",
    "        \n",
    "        if cv2.waitKey(25) & 0xff == ord('q'):\n",
    "            break\n",
    "    else:\n",
    "        break\n",
    "\n",
    "cap.release()  # Release the video capture object\n",
    "\n",
    "cv2.destroyAllWindows() # Close all OpenCV windows\n"
   ]
  },
  {
   "cell_type": "markdown",
   "id": "c9357c9b",
   "metadata": {},
   "source": [
    "# 19. cvtColor method OpenCV (Chnage Color of Image)"
   ]
  },
  {
   "cell_type": "code",
   "execution_count": null,
   "id": "2c2c9ab5",
   "metadata": {},
   "outputs": [],
   "source": [
    "img =cv2.imread(r'E:\\Computer-Vision\\Images\\Person.jpg', -1)  # -1 is used for unchanged image\n",
    "img =cv2.resize(img,(300,400))\n",
    "\n",
    "# Change Color of Image using cvtColor method OpenCV\n",
    "new_img = cv2.cvtColor(img, cv2.COLOR_BGR2GRAY)  # Convert the image to grayscale\n",
    "\n",
    "\n",
    "cv2.imshow('Orginal Image',img)\n",
    "cv2.imshow('Change Color Image',new_img)\n",
    "cv2.waitKey(0)\n",
    "cv2.destroyAllWindows()"
   ]
  },
  {
   "cell_type": "markdown",
   "id": "ae906e35",
   "metadata": {},
   "source": [
    "# 20. Crop Image using OpenCV Python"
   ]
  },
  {
   "cell_type": "code",
   "execution_count": 18,
   "id": "bfa82967",
   "metadata": {},
   "outputs": [],
   "source": [
    "img =cv2.imread(r'E:\\Computer-Vision\\Images\\Person.jpg', -1)  # -1 is used for unchanged image\n",
    "img =cv2.resize(img,(300,400))\n",
    "\n",
    "# Crop Image using OpenCV Python\n",
    "crop =img[50:300,:] \n",
    "\n",
    "cv2.imshow('Orginal Image',img)\n",
    "cv2.imshow('Crop Image',crop)\n",
    "cv2.waitKey(0)\n",
    "cv2.destroyAllWindows()"
   ]
  },
  {
   "cell_type": "markdown",
   "id": "dbf46389",
   "metadata": {},
   "source": [
    "# 21. Flip , Rotate & Transpose using OpenCV"
   ]
  },
  {
   "cell_type": "code",
   "execution_count": 18,
   "id": "9520c162",
   "metadata": {},
   "outputs": [],
   "source": [
    "img =cv2.imread(r'E:\\Computer-Vision\\Images\\Person.jpg', -1)  # -1 is used for unchanged image\n",
    "img =cv2.resize(img,(300,400))\n",
    "\n",
    "# Flip image using OpenCV\n",
    "img_flip =cv2.flip(img,1) # y-axis flip\n",
    "# img_flip =cv2.flip(img,0) # x-axis flip\n",
    "\n",
    "# Rotate Images\n",
    "Rotate_img =cv2.rotate(img,cv2.ROTATE_90_CLOCKWISE)\n",
    "\n",
    "# Transpose Image\n",
    "transpose_img = cv2.transpose(img)  # Transpose the image\n",
    "\n",
    "cv2.imshow('Orginal Image',img)\n",
    "cv2.imshow('Flip Image',img_flip)\n",
    "cv2.imshow('Rotate Image',Rotate_img)\n",
    "cv2.imshow('Transpose Image',transpose_img)\n",
    "cv2.waitKey(0)\n",
    "cv2.destroyAllWindows()"
   ]
  },
  {
   "cell_type": "markdown",
   "id": "d7cd3528",
   "metadata": {},
   "source": [
    "# 22.Camera Video Record & Saving color & Grayscale a Video using OpenCV"
   ]
  },
  {
   "cell_type": "code",
   "execution_count": 24,
   "id": "6ebe496a",
   "metadata": {},
   "outputs": [],
   "source": [
    "cap =cv2.VideoCapture(0)\n",
    "\n",
    "\n",
    "# 1.Record Video from Camera using OpenCV\n",
    "video_record =cv2.VideoWriter_fourcc(*'XVID')  # Define the codec and create VideoWriter object\n",
    "out = cv2.VideoWriter('output_video.mp4', video_record, 20.0, (640, 480))  # Create VideoWriter object to save the video\n",
    "\n",
    "\n",
    "while cap.isOpened():\n",
    "    r,frame =cap.read()\n",
    "    if r == True:\n",
    "        # 2. flip us lai kia taqa hamri video frame mirror image ban jaye\n",
    "        frame =cv2.flip(frame,1)\n",
    "        # 3. video save\n",
    "        out.write(frame)\n",
    "        \n",
    "        frame =cv2.resize(frame,(500,500)) \n",
    "        cv2.imshow('Camera Video Frame',frame)\n",
    "        if cv2.waitKey(1) & 0xff == ord('q'):\n",
    "            break\n",
    "    else:\n",
    "        break\n",
    "\n",
    "cap.release() \n",
    "# 4. Release the video capture object\n",
    "out.release()\n",
    "\n",
    "cv2.destroyAllWindows() "
   ]
  },
  {
   "cell_type": "markdown",
   "id": "2fdf6b50",
   "metadata": {},
   "source": [
    "## Convert Video Into GrayScale"
   ]
  },
  {
   "cell_type": "code",
   "execution_count": 26,
   "id": "ea91c05d",
   "metadata": {},
   "outputs": [],
   "source": [
    "cap =cv2.VideoCapture(0)\n",
    "\n",
    "\n",
    "# 1.Record Video from Camera using OpenCV\n",
    "video_record =cv2.VideoWriter_fourcc(*'XVID')  # Define the codec and create VideoWriter object\n",
    "# Add 0 as a parameter for save grayscale video \n",
    "out = cv2.VideoWriter('gray_output_video.mp4', video_record, 20.0, (640, 480),0)  # Create VideoWriter object to save the video\n",
    "\n",
    "\n",
    "while cap.isOpened():\n",
    "    r,frame =cap.read()\n",
    "    if r == True:\n",
    "        # 1. Convert video frame to grayscale\n",
    "        frame =cv2.cvtColor(frame, cv2.COLOR_BGR2GRAY)\n",
    "        \n",
    "        # 2. flip us lai kia taqa hamri video frame mirror image ban jaye\n",
    "        frame =cv2.flip(frame,1)\n",
    "        # 3. video save\n",
    "        out.write(frame)\n",
    "        \n",
    "        frame =cv2.resize(frame,(500,500)) \n",
    "        cv2.imshow('Camera Video Frame',frame)\n",
    "        if cv2.waitKey(1) & 0xff == ord('q'):\n",
    "            break\n",
    "    else:\n",
    "        break\n",
    "\n",
    "cap.release() \n",
    "# 4. Release the video capture object\n",
    "out.release()\n",
    "\n",
    "cv2.destroyAllWindows() "
   ]
  },
  {
   "cell_type": "code",
   "execution_count": null,
   "id": "3ef3a158",
   "metadata": {},
   "outputs": [],
   "source": []
  }
 ],
 "metadata": {
  "kernelspec": {
   "display_name": "base",
   "language": "python",
   "name": "python3"
  },
  "language_info": {
   "codemirror_mode": {
    "name": "ipython",
    "version": 3
   },
   "file_extension": ".py",
   "mimetype": "text/x-python",
   "name": "python",
   "nbconvert_exporter": "python",
   "pygments_lexer": "ipython3",
   "version": "3.9.12"
  }
 },
 "nbformat": 4,
 "nbformat_minor": 5
}
