{
 "cells": [
  {
   "cell_type": "markdown",
   "id": "dc73cfcc",
   "metadata": {},
   "source": [
    "# Computer Vision (3rd Notebook)"
   ]
  },
  {
   "cell_type": "markdown",
   "id": "40dc3296",
   "metadata": {},
   "source": [
    "# 41.Vehicle detection in a Video frame\n"
   ]
  },
  {
   "cell_type": "code",
   "execution_count": 1,
   "id": "b874c6d5",
   "metadata": {},
   "outputs": [],
   "source": [
    "import cv2\n",
    "import numpy as np"
   ]
  },
  {
   "cell_type": "code",
   "execution_count": 42,
   "id": "a7e640d9",
   "metadata": {},
   "outputs": [],
   "source": [
    "import cv2\n",
    "\n",
    "# Load video\n",
    "cap = cv2.VideoCapture(r'E:\\Computer-Vision\\Images\\Vehical_Run.mp4')\n",
    "\n",
    "# Load the car classifier once\n",
    "car_cascade = cv2.CascadeClassifier(r'E:\\Computer-Vision\\haarcascade_vehicle.xml')\n",
    "\n",
    "while True:\n",
    "    ret, frame = cap.read()\n",
    "    \n",
    "    if ret:\n",
    "        # Convert frame to grayscale\n",
    "        frame = cv2.resize(frame, (700,500))\n",
    "        gray = cv2.cvtColor(frame, cv2.COLOR_BGR2GRAY)\n",
    "        \n",
    "        # Detect cars\n",
    "        cars = car_cascade.detectMultiScale(gray, scaleFactor=1.1, minNeighbors=3)\n",
    "        \n",
    "        # Draw rectangles around detected cars\n",
    "        for (x, y, w, h) in cars:\n",
    "            cv2.rectangle(frame, (x, y), (x + w, y + h), (0, 0, 255), 1)\n",
    "        \n",
    "        # Display the frame\n",
    "        cv2.imshow('Video Frame', frame)\n",
    "        \n",
    "        # Break the loop if 'q' is pressed\n",
    "        if cv2.waitKey(20) & 0xFF == ord('q'):\n",
    "            break\n",
    "    else:\n",
    "        break\n",
    "\n",
    "# Release resources\n",
    "cap.release()\n",
    "cv2.destroyAllWindows()\n"
   ]
  },
  {
   "cell_type": "markdown",
   "id": "1b59cf0b",
   "metadata": {},
   "source": [
    "# 42. Smile and Eye detection"
   ]
  },
  {
   "cell_type": "code",
   "execution_count": 20,
   "id": "3b2e86c5",
   "metadata": {},
   "outputs": [],
   "source": [
    "image =cv2.imread(r'E:\\Computer-Vision\\Images\\Uzair.jpg')\n",
    "image =cv2.resize(image,(500,500))\n",
    "\n",
    "\n",
    "gry =cv2.cvtColor(image,cv2.COLOR_BGR2GRAY)\n",
    "sm =cv2.CascadeClassifier(r'E:\\Computer-Vision\\haarcascade_smile.xml')\n",
    "fc =cv2.CascadeClassifier(r'E:\\Computer-Vision\\haarcascade_frontalface_default.xml')\n",
    "\n",
    "f = fc.detectMultiScale(gry,1.3,3)\n",
    "\n",
    "for x,y,w,h in f:\n",
    "    roi_gry =gry[y:y+h,x:x+w]\n",
    "    roi_img =image[y:y+h,x:x+w]\n",
    "    \n",
    "    s =sm.detectMultiScale(roi_img,1.5,5)\n",
    "    \n",
    "    for xs,ys,ws,hs in s:\n",
    "        cv2.rectangle(roi_img,(xs,ys),(xs+ws,ys+hs),(0,0,255),2)\n",
    "        \n",
    "\n",
    "cv2.imshow('My Image',image)\n",
    "cv2.waitKey(0)\n",
    "cv2.destroyAllWindows()"
   ]
  },
  {
   "cell_type": "markdown",
   "id": "fd479218",
   "metadata": {},
   "source": [
    "# 43.Pedestrian detection from a streaming video"
   ]
  },
  {
   "cell_type": "code",
   "execution_count": 16,
   "id": "650cf110",
   "metadata": {},
   "outputs": [],
   "source": [
    "import cv2\n",
    "\n",
    "# Load video\n",
    "cap = cv2.VideoCapture(r'E:\\Computer-Vision\\Images\\Person_detection_video.mp4')\n",
    "\n",
    "# Load Haar cascade once\n",
    "hm = cv2.CascadeClassifier(r'E:\\Computer-Vision\\haarcascade_fullbody.xml')\n",
    "\n",
    "# Check if cascade loaded\n",
    "if hm.empty():\n",
    "    print(\"Error loading Haar cascade\")\n",
    "    exit()\n",
    "\n",
    "while True:\n",
    "    r, frame = cap.read()\n",
    "    \n",
    "    if not r:\n",
    "        break  # End of video\n",
    "\n",
    "    # Resize frame\n",
    "    frame = cv2.resize(frame, (700, 500))\n",
    "\n",
    "    # Convert to grayscale\n",
    "    gray = cv2.cvtColor(frame, cv2.COLOR_BGR2GRAY)\n",
    "\n",
    "    # Detect people\n",
    "    bodies = hm.detectMultiScale(gray, 1.1, 5)\n",
    "\n",
    "    # Draw rectangles and label each detected person\n",
    "    for x, y, w, h in bodies:\n",
    "        cv2.rectangle(frame, (x, y), (x + w, y + h), (0, 0, 255), 2)\n",
    "        cv2.putText(frame, 'Person', (x, y - 10), cv2.FONT_HERSHEY_SIMPLEX,\n",
    "                    0.3, (255, 0, 0), 1, cv2.LINE_AA)\n",
    "\n",
    "    # show total number of people detected\n",
    "    cv2.putText(frame, f'Total Persons: {len(bodies)}', (10, 30), cv2.FONT_HERSHEY_SIMPLEX,\n",
    "                0.8, (0, 0, 255), 2, cv2.LINE_AA)\n",
    "\n",
    "    # Show frame\n",
    "    cv2.imshow('Person Detection', frame)\n",
    "\n",
    "    # Break on 'q' key\n",
    "    if cv2.waitKey(25) & 0xFF == ord('q'):\n",
    "        break\n",
    "\n",
    "# Release resources\n",
    "cap.release()\n",
    "cv2.destroyAllWindows()\n"
   ]
  },
  {
   "cell_type": "markdown",
   "id": "b89dcb7b",
   "metadata": {},
   "source": [
    "# 44.MediaPipe (Face Detection)\n",
    "MediaPipe is a cross-platform, open-source framework by Google for building real-time perception pipelines. It’s widely used in computer vision tasks like:\n",
    "\n",
    "Face detection | Face Mesh | Iris | Hands Gesture recognition| Pose | Holistic full Body | Hair Segmentation | Object Detection | KNIFT written data | Box Tracking | Instant Motion Tracking "
   ]
  },
  {
   "cell_type": "code",
   "execution_count": 2,
   "id": "7efe490c",
   "metadata": {},
   "outputs": [
    {
     "name": "stdout",
     "output_type": "stream",
     "text": [
      "✅ mediapipe imported successfully!\n"
     ]
    }
   ],
   "source": [
    "import mediapipe as mp\n",
    "print(\"✅ mediapipe imported successfully!\")\n"
   ]
  },
  {
   "cell_type": "code",
   "execution_count": 3,
   "id": "5847688c",
   "metadata": {},
   "outputs": [],
   "source": [
    "mp_face_det = mp.solutions.face_detection\n",
    "mp_draw =mp.solutions.drawing_utils"
   ]
  },
  {
   "cell_type": "code",
   "execution_count": 31,
   "id": "1305cb91",
   "metadata": {},
   "outputs": [],
   "source": [
    "\n",
    "# Confidence 1.0 (100%) sirf perfect detections ko allow karega, is liye koi face detect na ho sakta hai.\n",
    "# Isko 0.5 rakho taake realistic result mile.\n",
    "face_dect = mp_face_det.FaceDetection(min_detection_confidence=0.5, model_selection=0)\n",
    "\n",
    "# Video file load\n",
    "cap = cv2.VideoCapture(r'E:\\Computer-Vision\\Images\\Face_detection.mp4')\n",
    "\n",
    "# Check if video opened correctly\n",
    "if not cap.isOpened():\n",
    "    print(\"❌ Error: Video file not opened. Check path!\")\n",
    "    exit()\n",
    "\n",
    "while True:\n",
    "    r, frame = cap.read()\n",
    "    if not r:   # agar frame read na ho\n",
    "        print(\"End of video or cannot read frame\")\n",
    "        break\n",
    "\n",
    "    # BGR → RGB\n",
    "    rgb_frame = cv2.cvtColor(frame, cv2.COLOR_BGR2RGB)\n",
    "    result = face_dect.process(rgb_frame)\n",
    "\n",
    "    # Back RGB → BGR\n",
    "    frame = cv2.cvtColor(rgb_frame, cv2.COLOR_RGB2BGR)\n",
    "    frame = cv2.flip(frame, 1)\n",
    "\n",
    "    # Agar detections hain to draw karo\n",
    "    if result.detections:\n",
    "        for id, detection in enumerate(result.detections):\n",
    "            mp_draw.draw_detection(frame, detection)\n",
    "\n",
    "    # Show frame\n",
    "    cv2.imshow('Video Frame', frame)\n",
    "\n",
    "    # Quit key\n",
    "    if cv2.waitKey(25) & 0xFF == ord('q'):\n",
    "        break\n",
    "\n",
    "cap.release()\n",
    "cv2.destroyAllWindows()\n"
   ]
  },
  {
   "cell_type": "markdown",
   "id": "f4ec90af",
   "metadata": {},
   "source": [
    "# 45.MediaPipe  Hand Tracking "
   ]
  },
  {
   "cell_type": "code",
   "execution_count": 65,
   "id": "cd237708",
   "metadata": {},
   "outputs": [],
   "source": [
    "import mediapipe as mp\n",
    "import cv2\n",
    "\n",
    "mp_drawing = mp.solutions.drawing_utils\n",
    "mp_drawing.styles = mp.solutions.drawing_styles\n",
    "mp_hands = mp.solutions.hands\n",
    "\n",
    "cap = cv2.VideoCapture(r'E:\\Computer-Vision\\Images\\Hands_Tracking_Video.mp4')\n",
    "p = mp_hands.Hands(model_complexity=0, min_detection_confidence=0.5, min_tracking_confidence=0.5)\n",
    "\n",
    "# Finger tip landmarks (Thumb, Index, Middle, Ring, Pinky)\n",
    "finger_tips = [4, 8, 12, 16, 20]\n",
    "\n",
    "while cap.isOpened():\n",
    "    r, frame = cap.read()\n",
    "    if r == True:\n",
    "        # frame = cv2.flip(frame, 1)\n",
    "        frame = cv2.cvtColor(frame, cv2.COLOR_BGR2RGB)\n",
    "\n",
    "        result = p.process(frame)\n",
    "\n",
    "        frame = cv2.cvtColor(frame, cv2.COLOR_RGB2BGR)\n",
    "\n",
    "        if result.multi_hand_landmarks:\n",
    "            for hand_landmarks in result.multi_hand_landmarks:\n",
    "                mp_drawing.draw_landmarks(frame,\n",
    "                                          hand_landmarks,\n",
    "                                          mp_hands.HAND_CONNECTIONS)\n",
    "\n",
    "                fingers_up = 0\n",
    "                landmarks = hand_landmarks.landmark\n",
    "\n",
    "                h, w, _ = frame.shape\n",
    "\n",
    "                # Thumb check (x-axis compare because thumb moves sideways)\n",
    "                if landmarks[finger_tips[0]].x > landmarks[finger_tips[0] - 1].x:\n",
    "                    fingers_up += 1\n",
    "\n",
    "                # Other 4 fingers check (y-axis compare because fingers move up-down)\n",
    "                for tip in finger_tips[1:]:\n",
    "                    if landmarks[tip].y < landmarks[tip - 2].y:\n",
    "                        fingers_up += 1\n",
    "\n",
    "                # Show text on top\n",
    "                cv2.putText(frame, f\"Fingers: {fingers_up}\", (30, 50),\n",
    "                            cv2.FONT_HERSHEY_SIMPLEX, 1.2, (0, 0, 0), 3)\n",
    "\n",
    "        cv2.imshow('Hand Tracking', frame)\n",
    "        if cv2.waitKey(25) & 0xff == ord('q'):\n",
    "            break\n",
    "    else:\n",
    "        break\n",
    "\n",
    "cap.release()\n",
    "cv2.destroyAllWindows()\n"
   ]
  },
  {
   "cell_type": "code",
   "execution_count": null,
   "id": "c3da7c22",
   "metadata": {},
   "outputs": [],
   "source": []
  },
  {
   "cell_type": "code",
   "execution_count": null,
   "id": "f70cad11",
   "metadata": {},
   "outputs": [],
   "source": []
  }
 ],
 "metadata": {
  "kernelspec": {
   "display_name": "Python 3",
   "language": "python",
   "name": "python3"
  },
  "language_info": {
   "codemirror_mode": {
    "name": "ipython",
    "version": 3
   },
   "file_extension": ".py",
   "mimetype": "text/x-python",
   "name": "python",
   "nbconvert_exporter": "python",
   "pygments_lexer": "ipython3",
   "version": "3.11.0"
  }
 },
 "nbformat": 4,
 "nbformat_minor": 5
}
