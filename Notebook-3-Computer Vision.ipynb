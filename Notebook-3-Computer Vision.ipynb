{
 "cells": [
  {
   "cell_type": "markdown",
   "id": "dc73cfcc",
   "metadata": {},
   "source": [
    "# Computer Vision (3rd Notebook)"
   ]
  },
  {
   "cell_type": "markdown",
   "id": "40dc3296",
   "metadata": {},
   "source": [
    "# 41.Vehicle detection in a Video frame\n"
   ]
  },
  {
   "cell_type": "code",
   "execution_count": 1,
   "id": "b874c6d5",
   "metadata": {},
   "outputs": [],
   "source": [
    "import cv2\n",
    "import numpy as np"
   ]
  },
  {
   "cell_type": "code",
   "execution_count": 42,
   "id": "a7e640d9",
   "metadata": {},
   "outputs": [],
   "source": [
    "import cv2\n",
    "\n",
    "# Load video\n",
    "cap = cv2.VideoCapture(r'E:\\Computer-Vision\\Images\\Vehical_Run.mp4')\n",
    "\n",
    "# Load the car classifier once\n",
    "car_cascade = cv2.CascadeClassifier(r'E:\\Computer-Vision\\haarcascade_vehicle.xml')\n",
    "\n",
    "while True:\n",
    "    ret, frame = cap.read()\n",
    "    \n",
    "    if ret:\n",
    "        # Convert frame to grayscale\n",
    "        frame = cv2.resize(frame, (700,500))\n",
    "        gray = cv2.cvtColor(frame, cv2.COLOR_BGR2GRAY)\n",
    "        \n",
    "        # Detect cars\n",
    "        cars = car_cascade.detectMultiScale(gray, scaleFactor=1.1, minNeighbors=3)\n",
    "        \n",
    "        # Draw rectangles around detected cars\n",
    "        for (x, y, w, h) in cars:\n",
    "            cv2.rectangle(frame, (x, y), (x + w, y + h), (0, 0, 255), 1)\n",
    "        \n",
    "        # Display the frame\n",
    "        cv2.imshow('Video Frame', frame)\n",
    "        \n",
    "        # Break the loop if 'q' is pressed\n",
    "        if cv2.waitKey(20) & 0xFF == ord('q'):\n",
    "            break\n",
    "    else:\n",
    "        break\n",
    "\n",
    "# Release resources\n",
    "cap.release()\n",
    "cv2.destroyAllWindows()\n"
   ]
  },
  {
   "cell_type": "markdown",
   "id": "1b59cf0b",
   "metadata": {},
   "source": [
    "# 42. Smile and Eye detection"
   ]
  },
  {
   "cell_type": "code",
   "execution_count": 20,
   "id": "3b2e86c5",
   "metadata": {},
   "outputs": [],
   "source": [
    "image =cv2.imread(r'E:\\Computer-Vision\\Images\\Uzair.jpg')\n",
    "image =cv2.resize(image,(500,500))\n",
    "\n",
    "\n",
    "gry =cv2.cvtColor(image,cv2.COLOR_BGR2GRAY)\n",
    "sm =cv2.CascadeClassifier(r'E:\\Computer-Vision\\haarcascade_smile.xml')\n",
    "fc =cv2.CascadeClassifier(r'E:\\Computer-Vision\\haarcascade_frontalface_default.xml')\n",
    "\n",
    "f = fc.detectMultiScale(gry,1.3,3)\n",
    "\n",
    "for x,y,w,h in f:\n",
    "    roi_gry =gry[y:y+h,x:x+w]\n",
    "    roi_img =image[y:y+h,x:x+w]\n",
    "    \n",
    "    s =sm.detectMultiScale(roi_img,1.5,5)\n",
    "    \n",
    "    for xs,ys,ws,hs in s:\n",
    "        cv2.rectangle(roi_img,(xs,ys),(xs+ws,ys+hs),(0,0,255),2)\n",
    "        \n",
    "\n",
    "cv2.imshow('My Image',image)\n",
    "cv2.waitKey(0)\n",
    "cv2.destroyAllWindows()"
   ]
  },
  {
   "cell_type": "markdown",
   "id": "fd479218",
   "metadata": {},
   "source": [
    "# 43.Pedestrian detection from a streaming video"
   ]
  },
  {
   "cell_type": "code",
   "execution_count": 13,
   "id": "650cf110",
   "metadata": {},
   "outputs": [],
   "source": [
    "import cv2\n",
    "\n",
    "# Load video\n",
    "cap = cv2.VideoCapture(r'E:\\Computer-Vision\\Images\\Person_detection_video.mp4')\n",
    "\n",
    "# Load Haar cascade once\n",
    "hm = cv2.CascadeClassifier(r'E:\\Computer-Vision\\haarcascade_fullbody.xml')\n",
    "\n",
    "# Check if cascade loaded\n",
    "if hm.empty():\n",
    "    print(\"Error loading Haar cascade\")\n",
    "    exit()\n",
    "\n",
    "while True:\n",
    "    r, frame = cap.read()\n",
    "    \n",
    "    if not r:\n",
    "        break  # End of video\n",
    "\n",
    "    # Resize frame\n",
    "    frame = cv2.resize(frame, (700, 500))\n",
    "\n",
    "    # Convert to grayscale\n",
    "    gray = cv2.cvtColor(frame, cv2.COLOR_BGR2GRAY)\n",
    "\n",
    "    # Detect people\n",
    "    bodies = hm.detectMultiScale(gray, 1.1, 5)\n",
    "\n",
    "    # Draw rectangles and label each detected person\n",
    "    for x, y, w, h in bodies:\n",
    "        cv2.rectangle(frame, (x, y), (x + w, y + h), (0, 0, 255), 2)\n",
    "        cv2.putText(frame, 'Person', (x, y - 10), cv2.FONT_HERSHEY_SIMPLEX,\n",
    "                    0.3, (255, 0, 0), 1, cv2.LINE_AA)\n",
    "\n",
    "    # show total number of people detected\n",
    "    cv2.putText(frame, f'Total Persons: {len(bodies)}', (10, 30), cv2.FONT_HERSHEY_SIMPLEX,\n",
    "                0.8, (0, 0, 255), 2, cv2.LINE_AA)\n",
    "\n",
    "    # Show frame\n",
    "    cv2.imshow('Person Detection', frame)\n",
    "\n",
    "    # Break on 'q' key\n",
    "    if cv2.waitKey(25) & 0xFF == ord('q'):\n",
    "        break\n",
    "\n",
    "# Release resources\n",
    "cap.release()\n",
    "cv2.destroyAllWindows()\n"
   ]
  },
  {
   "cell_type": "code",
   "execution_count": null,
   "id": "7efe490c",
   "metadata": {},
   "outputs": [],
   "source": []
  }
 ],
 "metadata": {
  "kernelspec": {
   "display_name": "base",
   "language": "python",
   "name": "python3"
  },
  "language_info": {
   "codemirror_mode": {
    "name": "ipython",
    "version": 3
   },
   "file_extension": ".py",
   "mimetype": "text/x-python",
   "name": "python",
   "nbconvert_exporter": "python",
   "pygments_lexer": "ipython3",
   "version": "3.9.12"
  }
 },
 "nbformat": 4,
 "nbformat_minor": 5
}
