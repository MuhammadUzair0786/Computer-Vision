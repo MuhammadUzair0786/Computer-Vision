{
 "cells": [
  {
   "cell_type": "markdown",
   "id": "dc73cfcc",
   "metadata": {},
   "source": [
    "# Computer Vision (3rd Notebook)"
   ]
  },
  {
   "cell_type": "markdown",
   "id": "40dc3296",
   "metadata": {},
   "source": [
    "# 41.Vehicle detection in a Video frame\n"
   ]
  },
  {
   "cell_type": "code",
   "execution_count": 2,
   "id": "b874c6d5",
   "metadata": {},
   "outputs": [],
   "source": [
    "import cv2\n",
    "import numpy as np"
   ]
  },
  {
   "cell_type": "code",
   "execution_count": 42,
   "id": "a7e640d9",
   "metadata": {},
   "outputs": [],
   "source": [
    "import cv2\n",
    "\n",
    "# Load video\n",
    "cap = cv2.VideoCapture(r'E:\\Computer-Vision\\Images\\Vehical_Run.mp4')\n",
    "\n",
    "# Load the car classifier once\n",
    "car_cascade = cv2.CascadeClassifier(r'E:\\Computer-Vision\\haarcascade_vehicle.xml')\n",
    "\n",
    "while True:\n",
    "    ret, frame = cap.read()\n",
    "    \n",
    "    if ret:\n",
    "        # Convert frame to grayscale\n",
    "        frame = cv2.resize(frame, (700,500))\n",
    "        gray = cv2.cvtColor(frame, cv2.COLOR_BGR2GRAY)\n",
    "        \n",
    "        # Detect cars\n",
    "        cars = car_cascade.detectMultiScale(gray, scaleFactor=1.1, minNeighbors=3)\n",
    "        \n",
    "        # Draw rectangles around detected cars\n",
    "        for (x, y, w, h) in cars:\n",
    "            cv2.rectangle(frame, (x, y), (x + w, y + h), (0, 0, 255), 1)\n",
    "        \n",
    "        # Display the frame\n",
    "        cv2.imshow('Video Frame', frame)\n",
    "        \n",
    "        # Break the loop if 'q' is pressed\n",
    "        if cv2.waitKey(20) & 0xFF == ord('q'):\n",
    "            break\n",
    "    else:\n",
    "        break\n",
    "\n",
    "# Release resources\n",
    "cap.release()\n",
    "cv2.destroyAllWindows()\n"
   ]
  },
  {
   "cell_type": "markdown",
   "id": "1b59cf0b",
   "metadata": {},
   "source": []
  },
  {
   "cell_type": "code",
   "execution_count": null,
   "id": "3b2e86c5",
   "metadata": {},
   "outputs": [],
   "source": []
  }
 ],
 "metadata": {
  "kernelspec": {
   "display_name": "base",
   "language": "python",
   "name": "python3"
  },
  "language_info": {
   "codemirror_mode": {
    "name": "ipython",
    "version": 3
   },
   "file_extension": ".py",
   "mimetype": "text/x-python",
   "name": "python",
   "nbconvert_exporter": "python",
   "pygments_lexer": "ipython3",
   "version": "3.9.12"
  }
 },
 "nbformat": 4,
 "nbformat_minor": 5
}
